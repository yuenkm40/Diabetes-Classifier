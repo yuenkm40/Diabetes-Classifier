{
 "cells": [
  {
   "cell_type": "markdown",
   "metadata": {
    "cell_id": "00000-d561910d-113c-4c17-ba26-6e4224f4d8c3",
    "deepnote_cell_type": "markdown",
    "tags": []
   },
   "source": [
    "# Diabetes Predictor\n",
    "\n",
    "According to World Health Organization, roughly 422 million people worldwide suffer from diabetes, with the majority of them living in low and middle-income countries. Additionally, 1.6 million deaths are directly attributed to diabetes every year.\n",
    "\n",
    "Inspired by this astonishing fact, we have decided to come up with a diabetes predictor to have an early detection on diabetes, in hopes of allowing the patient to receive treatment as quickly as possible.\n",
    "\n",
    "For this project, we have obtained our datasets from the following URL: https://www.kaggle.com/c/diabetes-classification/data"
   ]
  },
  {
   "cell_type": "markdown",
   "metadata": {
    "cell_id": "00001-7fa37a84-0828-4e02-ba75-a744a4a7f9a6",
    "deepnote_cell_type": "markdown",
    "tags": []
   },
   "source": [
    "## Exploratory Data Analysis"
   ]
  },
  {
   "cell_type": "code",
   "execution_count": 1,
   "metadata": {
    "cell_id": "00000-90126bd7-81e3-4d3a-a22f-9ece98242964",
    "deepnote_cell_type": "code",
    "deepnote_to_be_reexecuted": false,
    "execution_millis": 1321,
    "execution_start": 1624113466372,
    "source_hash": "df7bf6a5",
    "tags": []
   },
   "outputs": [
    {
     "data": {
      "application/vnd.deepnote.dataframe.v2+json": {
       "column_count": 10,
       "columns": [
        {
         "dtype": "int64",
         "name": "p_id",
         "stats": {
          "histogram": [
           {
            "bin_end": 93.5,
            "bin_start": 25,
            "count": 1
           },
           {
            "bin_end": 162,
            "bin_start": 93.5,
            "count": 0
           },
           {
            "bin_end": 230.5,
            "bin_start": 162,
            "count": 0
           },
           {
            "bin_end": 299,
            "bin_start": 230.5,
            "count": 0
           },
           {
            "bin_end": 367.5,
            "bin_start": 299,
            "count": 1
           },
           {
            "bin_end": 436,
            "bin_start": 367.5,
            "count": 0
           },
           {
            "bin_end": 504.5,
            "bin_start": 436,
            "count": 0
           },
           {
            "bin_end": 573,
            "bin_start": 504.5,
            "count": 1
           },
           {
            "bin_end": 641.5,
            "bin_start": 573,
            "count": 0
           },
           {
            "bin_end": 710,
            "bin_start": 641.5,
            "count": 2
           }
          ],
          "max": "710",
          "min": "25",
          "nan_count": 0,
          "unique_count": 5
         }
        },
        {
         "dtype": "int64",
         "name": "no_times_pregnant",
         "stats": {
          "histogram": [
           {
            "bin_end": 2,
            "bin_start": 1,
            "count": 1
           },
           {
            "bin_end": 3,
            "bin_start": 2,
            "count": 2
           },
           {
            "bin_end": 4,
            "bin_start": 3,
            "count": 1
           },
           {
            "bin_end": 5,
            "bin_start": 4,
            "count": 0
           },
           {
            "bin_end": 6,
            "bin_start": 5,
            "count": 0
           },
           {
            "bin_end": 7,
            "bin_start": 6,
            "count": 0
           },
           {
            "bin_end": 8,
            "bin_start": 7,
            "count": 0
           },
           {
            "bin_end": 9,
            "bin_start": 8,
            "count": 0
           },
           {
            "bin_end": 10,
            "bin_start": 9,
            "count": 0
           },
           {
            "bin_end": 11,
            "bin_start": 10,
            "count": 1
           }
          ],
          "max": "11",
          "min": "1",
          "nan_count": 0,
          "unique_count": 4
         }
        },
        {
         "dtype": "int64",
         "name": "glucose_concentration",
         "stats": {
          "histogram": [
           {
            "bin_end": 98,
            "bin_start": 93,
            "count": 1
           },
           {
            "bin_end": 103,
            "bin_start": 98,
            "count": 0
           },
           {
            "bin_end": 108,
            "bin_start": 103,
            "count": 0
           },
           {
            "bin_end": 113,
            "bin_start": 108,
            "count": 1
           },
           {
            "bin_end": 118,
            "bin_start": 113,
            "count": 0
           },
           {
            "bin_end": 123,
            "bin_start": 118,
            "count": 1
           },
           {
            "bin_end": 128,
            "bin_start": 123,
            "count": 0
           },
           {
            "bin_end": 133,
            "bin_start": 128,
            "count": 1
           },
           {
            "bin_end": 138,
            "bin_start": 133,
            "count": 0
           },
           {
            "bin_end": 143,
            "bin_start": 138,
            "count": 1
           }
          ],
          "max": "143",
          "min": "93",
          "nan_count": 0,
          "unique_count": 5
         }
        },
        {
         "dtype": "int64",
         "name": "blood_pressure",
         "stats": {
          "histogram": [
           {
            "bin_end": 67,
            "bin_start": 64,
            "count": 1
           },
           {
            "bin_end": 70,
            "bin_start": 67,
            "count": 1
           },
           {
            "bin_end": 73,
            "bin_start": 70,
            "count": 1
           },
           {
            "bin_end": 76,
            "bin_start": 73,
            "count": 0
           },
           {
            "bin_end": 79,
            "bin_start": 76,
            "count": 0
           },
           {
            "bin_end": 82,
            "bin_start": 79,
            "count": 1
           },
           {
            "bin_end": 85,
            "bin_start": 82,
            "count": 0
           },
           {
            "bin_end": 88,
            "bin_start": 85,
            "count": 0
           },
           {
            "bin_end": 91,
            "bin_start": 88,
            "count": 0
           },
           {
            "bin_end": 94,
            "bin_start": 91,
            "count": 1
           }
          ],
          "max": "94",
          "min": "64",
          "nan_count": 0,
          "unique_count": 5
         }
        },
        {
         "dtype": "int64",
         "name": "skin_fold_thickness",
         "stats": {
          "histogram": [
           {
            "bin_end": 24.6,
            "bin_start": 22,
            "count": 1
           },
           {
            "bin_end": 27.2,
            "bin_start": 24.6,
            "count": 1
           },
           {
            "bin_end": 29.8,
            "bin_start": 27.2,
            "count": 0
           },
           {
            "bin_end": 32.4,
            "bin_start": 29.8,
            "count": 1
           },
           {
            "bin_end": 35,
            "bin_start": 32.4,
            "count": 1
           },
           {
            "bin_end": 37.6,
            "bin_start": 35,
            "count": 0
           },
           {
            "bin_end": 40.2,
            "bin_start": 37.6,
            "count": 0
           },
           {
            "bin_end": 42.8,
            "bin_start": 40.2,
            "count": 0
           },
           {
            "bin_end": 45.400000000000006,
            "bin_start": 42.8,
            "count": 0
           },
           {
            "bin_end": 48,
            "bin_start": 45.400000000000006,
            "count": 1
           }
          ],
          "max": "48",
          "min": "22",
          "nan_count": 0,
          "unique_count": 5
         }
        },
        {
         "dtype": "int64",
         "name": "serum_insulin",
         "stats": {
          "histogram": [
           {
            "bin_end": 104.6,
            "bin_start": 94,
            "count": 1
           },
           {
            "bin_end": 115.2,
            "bin_start": 104.6,
            "count": 0
           },
           {
            "bin_end": 125.8,
            "bin_start": 115.2,
            "count": 0
           },
           {
            "bin_end": 136.4,
            "bin_start": 125.8,
            "count": 0
           },
           {
            "bin_end": 147,
            "bin_start": 136.4,
            "count": 1
           },
           {
            "bin_end": 157.6,
            "bin_start": 147,
            "count": 0
           },
           {
            "bin_end": 168.2,
            "bin_start": 157.6,
            "count": 1
           },
           {
            "bin_end": 178.8,
            "bin_start": 168.2,
            "count": 0
           },
           {
            "bin_end": 189.39999999999998,
            "bin_start": 178.8,
            "count": 0
           },
           {
            "bin_end": 200,
            "bin_start": 189.39999999999998,
            "count": 2
           }
          ],
          "max": "200",
          "min": "94",
          "nan_count": 0,
          "unique_count": 5
         }
        },
        {
         "dtype": "float64",
         "name": "bmi",
         "stats": {
          "histogram": [
           {
            "bin_end": 33.05,
            "bin_start": 32.4,
            "count": 1
           },
           {
            "bin_end": 33.699999999999996,
            "bin_start": 33.05,
            "count": 0
           },
           {
            "bin_end": 34.35,
            "bin_start": 33.699999999999996,
            "count": 1
           },
           {
            "bin_end": 35,
            "bin_start": 34.35,
            "count": 0
           },
           {
            "bin_end": 35.65,
            "bin_start": 35,
            "count": 0
           },
           {
            "bin_end": 36.3,
            "bin_start": 35.65,
            "count": 0
           },
           {
            "bin_end": 36.949999999999996,
            "bin_start": 36.3,
            "count": 1
           },
           {
            "bin_end": 37.6,
            "bin_start": 36.949999999999996,
            "count": 0
           },
           {
            "bin_end": 38.25,
            "bin_start": 37.6,
            "count": 1
           },
           {
            "bin_end": 38.9,
            "bin_start": 38.25,
            "count": 1
           }
          ],
          "max": "38.9",
          "min": "32.4",
          "nan_count": 0,
          "unique_count": 5
         }
        },
        {
         "dtype": "float64",
         "name": "diabetes pedigree",
         "stats": {
          "histogram": [
           {
            "bin_end": 0.3448,
            "bin_start": 0.254,
            "count": 2
           },
           {
            "bin_end": 0.4356,
            "bin_start": 0.3448,
            "count": 0
           },
           {
            "bin_end": 0.5264,
            "bin_start": 0.4356,
            "count": 0
           },
           {
            "bin_end": 0.6172,
            "bin_start": 0.5264,
            "count": 1
           },
           {
            "bin_end": 0.708,
            "bin_start": 0.6172,
            "count": 1
           },
           {
            "bin_end": 0.7988,
            "bin_start": 0.708,
            "count": 0
           },
           {
            "bin_end": 0.8896,
            "bin_start": 0.7988,
            "count": 0
           },
           {
            "bin_end": 0.9803999999999999,
            "bin_start": 0.8896,
            "count": 0
           },
           {
            "bin_end": 1.0712,
            "bin_start": 0.9803999999999999,
            "count": 0
           },
           {
            "bin_end": 1.162,
            "bin_start": 1.0712,
            "count": 1
           }
          ],
          "max": "1.162",
          "min": "0.254",
          "nan_count": 0,
          "unique_count": 5
         }
        },
        {
         "dtype": "int64",
         "name": "age",
         "stats": {
          "histogram": [
           {
            "bin_end": 25.8,
            "bin_start": 23,
            "count": 1
           },
           {
            "bin_end": 28.6,
            "bin_start": 25.8,
            "count": 2
           },
           {
            "bin_end": 31.4,
            "bin_start": 28.6,
            "count": 0
           },
           {
            "bin_end": 34.2,
            "bin_start": 31.4,
            "count": 0
           },
           {
            "bin_end": 37,
            "bin_start": 34.2,
            "count": 0
           },
           {
            "bin_end": 39.8,
            "bin_start": 37,
            "count": 0
           },
           {
            "bin_end": 42.599999999999994,
            "bin_start": 39.8,
            "count": 1
           },
           {
            "bin_end": 45.4,
            "bin_start": 42.599999999999994,
            "count": 0
           },
           {
            "bin_end": 48.2,
            "bin_start": 45.4,
            "count": 0
           },
           {
            "bin_end": 51,
            "bin_start": 48.2,
            "count": 1
           }
          ],
          "max": "51",
          "min": "23",
          "nan_count": 0,
          "unique_count": 5
         }
        },
        {
         "dtype": "int64",
         "name": "diabetes",
         "stats": {
          "histogram": [
           {
            "bin_end": 0.1,
            "bin_start": 0,
            "count": 2
           },
           {
            "bin_end": 0.2,
            "bin_start": 0.1,
            "count": 0
           },
           {
            "bin_end": 0.30000000000000004,
            "bin_start": 0.2,
            "count": 0
           },
           {
            "bin_end": 0.4,
            "bin_start": 0.30000000000000004,
            "count": 0
           },
           {
            "bin_end": 0.5,
            "bin_start": 0.4,
            "count": 0
           },
           {
            "bin_end": 0.6000000000000001,
            "bin_start": 0.5,
            "count": 0
           },
           {
            "bin_end": 0.7000000000000001,
            "bin_start": 0.6000000000000001,
            "count": 0
           },
           {
            "bin_end": 0.8,
            "bin_start": 0.7000000000000001,
            "count": 0
           },
           {
            "bin_end": 0.9,
            "bin_start": 0.8,
            "count": 0
           },
           {
            "bin_end": 1,
            "bin_start": 0.9,
            "count": 3
           }
          ],
          "max": "1",
          "min": "0",
          "nan_count": 0,
          "unique_count": 2
         }
        },
        {
         "dtype": "int64",
         "name": "_deepnote_index_column"
        }
       ],
       "row_count": 5,
       "rows_bottom": null,
       "rows_top": [
        {
         "_deepnote_index_column": 0,
         "age": 26,
         "blood_pressure": 68,
         "bmi": 34.1,
         "diabetes": 0,
         "diabetes pedigree": 0.315,
         "glucose_concentration": 112,
         "no_times_pregnant": 2,
         "p_id": 316,
         "serum_insulin": 94,
         "skin_fold_thickness": 22
        },
        {
         "_deepnote_index_column": 1,
         "age": 51,
         "blood_pressure": 94,
         "bmi": 36.6,
         "diabetes": 1,
         "diabetes pedigree": 0.254,
         "glucose_concentration": 143,
         "no_times_pregnant": 11,
         "p_id": 25,
         "serum_insulin": 146,
         "skin_fold_thickness": 33
        },
        {
         "_deepnote_index_column": 2,
         "age": 23,
         "blood_pressure": 64,
         "bmi": 38,
         "diabetes": 1,
         "diabetes pedigree": 0.674,
         "glucose_concentration": 93,
         "no_times_pregnant": 2,
         "p_id": 710,
         "serum_insulin": 160,
         "skin_fold_thickness": 32
        },
        {
         "_deepnote_index_column": 3,
         "age": 41,
         "blood_pressure": 80,
         "bmi": 38.9,
         "diabetes": 0,
         "diabetes pedigree": 1.162,
         "glucose_concentration": 120,
         "no_times_pregnant": 1,
         "p_id": 658,
         "serum_insulin": 200,
         "skin_fold_thickness": 48
        },
        {
         "_deepnote_index_column": 4,
         "age": 27,
         "blood_pressure": 72,
         "bmi": 32.4,
         "diabetes": 1,
         "diabetes pedigree": 0.549,
         "glucose_concentration": 128,
         "no_times_pregnant": 3,
         "p_id": 542,
         "serum_insulin": 190,
         "skin_fold_thickness": 25
        }
       ]
      },
      "text/html": [
       "<div>\n",
       "<style scoped>\n",
       "    .dataframe tbody tr th:only-of-type {\n",
       "        vertical-align: middle;\n",
       "    }\n",
       "\n",
       "    .dataframe tbody tr th {\n",
       "        vertical-align: top;\n",
       "    }\n",
       "\n",
       "    .dataframe thead th {\n",
       "        text-align: right;\n",
       "    }\n",
       "</style>\n",
       "<table border=\"1\" class=\"dataframe\">\n",
       "  <thead>\n",
       "    <tr style=\"text-align: right;\">\n",
       "      <th></th>\n",
       "      <th>p_id</th>\n",
       "      <th>no_times_pregnant</th>\n",
       "      <th>glucose_concentration</th>\n",
       "      <th>blood_pressure</th>\n",
       "      <th>skin_fold_thickness</th>\n",
       "      <th>serum_insulin</th>\n",
       "      <th>bmi</th>\n",
       "      <th>diabetes pedigree</th>\n",
       "      <th>age</th>\n",
       "      <th>diabetes</th>\n",
       "    </tr>\n",
       "  </thead>\n",
       "  <tbody>\n",
       "    <tr>\n",
       "      <th>0</th>\n",
       "      <td>316</td>\n",
       "      <td>2</td>\n",
       "      <td>112</td>\n",
       "      <td>68</td>\n",
       "      <td>22</td>\n",
       "      <td>94</td>\n",
       "      <td>34.1</td>\n",
       "      <td>0.315</td>\n",
       "      <td>26</td>\n",
       "      <td>0</td>\n",
       "    </tr>\n",
       "    <tr>\n",
       "      <th>1</th>\n",
       "      <td>25</td>\n",
       "      <td>11</td>\n",
       "      <td>143</td>\n",
       "      <td>94</td>\n",
       "      <td>33</td>\n",
       "      <td>146</td>\n",
       "      <td>36.6</td>\n",
       "      <td>0.254</td>\n",
       "      <td>51</td>\n",
       "      <td>1</td>\n",
       "    </tr>\n",
       "    <tr>\n",
       "      <th>2</th>\n",
       "      <td>710</td>\n",
       "      <td>2</td>\n",
       "      <td>93</td>\n",
       "      <td>64</td>\n",
       "      <td>32</td>\n",
       "      <td>160</td>\n",
       "      <td>38.0</td>\n",
       "      <td>0.674</td>\n",
       "      <td>23</td>\n",
       "      <td>1</td>\n",
       "    </tr>\n",
       "    <tr>\n",
       "      <th>3</th>\n",
       "      <td>658</td>\n",
       "      <td>1</td>\n",
       "      <td>120</td>\n",
       "      <td>80</td>\n",
       "      <td>48</td>\n",
       "      <td>200</td>\n",
       "      <td>38.9</td>\n",
       "      <td>1.162</td>\n",
       "      <td>41</td>\n",
       "      <td>0</td>\n",
       "    </tr>\n",
       "    <tr>\n",
       "      <th>4</th>\n",
       "      <td>542</td>\n",
       "      <td>3</td>\n",
       "      <td>128</td>\n",
       "      <td>72</td>\n",
       "      <td>25</td>\n",
       "      <td>190</td>\n",
       "      <td>32.4</td>\n",
       "      <td>0.549</td>\n",
       "      <td>27</td>\n",
       "      <td>1</td>\n",
       "    </tr>\n",
       "  </tbody>\n",
       "</table>\n",
       "</div>"
      ],
      "text/plain": [
       "   p_id  no_times_pregnant  glucose_concentration  blood_pressure  \\\n",
       "0   316                  2                    112              68   \n",
       "1    25                 11                    143              94   \n",
       "2   710                  2                     93              64   \n",
       "3   658                  1                    120              80   \n",
       "4   542                  3                    128              72   \n",
       "\n",
       "   skin_fold_thickness  serum_insulin   bmi  diabetes pedigree  age  diabetes  \n",
       "0                   22             94  34.1              0.315   26         0  \n",
       "1                   33            146  36.6              0.254   51         1  \n",
       "2                   32            160  38.0              0.674   23         1  \n",
       "3                   48            200  38.9              1.162   41         0  \n",
       "4                   25            190  32.4              0.549   27         1  "
      ]
     },
     "execution_count": 1,
     "metadata": {},
     "output_type": "execute_result"
    }
   ],
   "source": [
    "import pandas as pd \n",
    "import numpy as np\n",
    "import matplotlib.pyplot as plt\n",
    "import seaborn as sb \n",
    "\n",
    "#Loading Data \n",
    "diabetes_data = pd.read_csv(\"train.csv\")\n",
    "diabetes_data.head()"
   ]
  },
  {
   "cell_type": "code",
   "execution_count": 2,
   "metadata": {
    "cell_id": "00000-d8e75660-8f2c-46f1-a6ff-2ee446d4fbad",
    "deepnote_cell_type": "code",
    "deepnote_to_be_reexecuted": false,
    "execution_millis": 15,
    "execution_start": 1624113467696,
    "source_hash": "a310e5c7",
    "tags": []
   },
   "outputs": [
    {
     "name": "stdout",
     "output_type": "stream",
     "text": [
      "# No. of rows: 614\n",
      "# No. of columns: 10\n"
     ]
    }
   ],
   "source": [
    "n_rows, n_cols = diabetes_data.shape \n",
    "print(f\"# No. of rows: {n_rows}\")\n",
    "print(f\"# No. of columns: {n_cols}\")"
   ]
  },
  {
   "cell_type": "markdown",
   "metadata": {
    "cell_id": "00004-0bae6cce-0aa4-431b-aca4-586ac67ea169",
    "deepnote_cell_type": "markdown",
    "tags": []
   },
   "source": [
    "There are 614 rows and 10 columns in the training dataset provided."
   ]
  },
  {
   "cell_type": "markdown",
   "metadata": {
    "cell_id": "00005-4bb88525-88a5-41a7-babd-9cb900fc83f6",
    "deepnote_cell_type": "markdown",
    "tags": []
   },
   "source": [
    "## Data Dictionary\n",
    "<br>\n",
    "\n",
    "|Column name|<p align=\"left\"> Explanation|<p align=\"left\"> Data type| Details|\n",
    "|:---:|:---:|:---:|:---:|\n",
    "|p_id|<p align=\"left\"> Identification Number | categorical | \n",
    "|no_times_pregnant| <p align=\"left\"> No. of times pregnant | numerical | \n",
    "|glucose_concentration| <p align=\"left\"> Glucose concentration | numerical |\n",
    "|blood_pressure| <p align=\"left\"> Diastollic blood pressure (mm Hg) | numerical |\n",
    "|skin_fold_thickness| <p align=\"left\"> Triceps skin fold thickness (mm) | numerical| \n",
    "|serum_insulin| <p align=\"left\"> serum insulin (mu U/ml) | numerical |\n",
    "|bmi| <p align=\"left\"> Body Mass Index (weight in kg/(height in m)^2)| numerical |\n",
    "|diabetes pedigree| <p align=\"left\"> Diabetes pedigree function - Represents how likely the patients are to get the disease by extrapolating from their ancestor’s history |numerical|\n",
    "|age| <p align=\"left\"> Age of participants (years) | numerical |\n",
    "|diabetes| <p align=\"left\"> Whether the patient suffers from diabetes | categorical | 0: tested negative 1: tested positive |\n"
   ]
  },
  {
   "cell_type": "markdown",
   "metadata": {
    "cell_id": "00006-829614c8-e94b-4b60-a29f-2d2eb3ee229e",
    "deepnote_cell_type": "text-cell-h3",
    "tags": []
   },
   "source": [
    "### Data Preprocessing "
   ]
  },
  {
   "cell_type": "markdown",
   "metadata": {
    "cell_id": "00007-b9e0ebb9-ea48-4f4f-be90-d28e2de3441d",
    "deepnote_cell_type": "markdown",
    "tags": []
   },
   "source": [
    "We decided to do a preliminary analysis of the datatype of the variables and to check whether there were any null values present in the dataset."
   ]
  },
  {
   "cell_type": "code",
   "execution_count": 3,
   "metadata": {
    "cell_id": "00001-c45ccb8a-cd04-4e10-b9b8-0ca8c0a2aef3",
    "deepnote_cell_type": "code",
    "deepnote_to_be_reexecuted": false,
    "execution_millis": 60,
    "execution_start": 1624113467708,
    "source_hash": "9e5fcf9b",
    "tags": []
   },
   "outputs": [
    {
     "name": "stdout",
     "output_type": "stream",
     "text": [
      "<class 'pandas.core.frame.DataFrame'>\n",
      "RangeIndex: 614 entries, 0 to 613\n",
      "Data columns (total 10 columns):\n",
      " #   Column                 Non-Null Count  Dtype  \n",
      "---  ------                 --------------  -----  \n",
      " 0   p_id                   614 non-null    int64  \n",
      " 1   no_times_pregnant      614 non-null    int64  \n",
      " 2   glucose_concentration  614 non-null    int64  \n",
      " 3   blood_pressure         614 non-null    int64  \n",
      " 4   skin_fold_thickness    614 non-null    int64  \n",
      " 5   serum_insulin          614 non-null    int64  \n",
      " 6   bmi                    614 non-null    float64\n",
      " 7   diabetes pedigree      614 non-null    float64\n",
      " 8   age                    614 non-null    int64  \n",
      " 9   diabetes               614 non-null    int64  \n",
      "dtypes: float64(2), int64(8)\n",
      "memory usage: 48.1 KB\n"
     ]
    }
   ],
   "source": [
    "# Finding any null values and datatype of variables in dataset\n",
    "diabetes_data.info(verbose=True)"
   ]
  },
  {
   "cell_type": "markdown",
   "metadata": {
    "cell_id": "00002-efbceb31-f60c-4cbd-b07a-91587e4e5c95",
    "deepnote_cell_type": "markdown",
    "tags": []
   },
   "source": [
    "As shown above, there was no missing data in the dataset provided. \n",
    "\n",
    "Also, since all the categorical data (`p_id`, `diabetes`) in the dataset are displayed numerically, no encoding was needed."
   ]
  },
  {
   "cell_type": "markdown",
   "metadata": {
    "cell_id": "00010-2e95bf2a-6cfb-4fb7-8042-9a10ee4a00e0",
    "deepnote_cell_type": "markdown",
    "tags": []
   },
   "source": [
    "### Statistical Summary"
   ]
  },
  {
   "cell_type": "code",
   "execution_count": 4,
   "metadata": {
    "cell_id": "00009-c59edfa4-5df0-4643-907d-9300388e99b6",
    "deepnote_cell_type": "code",
    "deepnote_to_be_reexecuted": false,
    "execution_millis": 81,
    "execution_start": 1624113467762,
    "source_hash": "3a0dbf21",
    "tags": []
   },
   "outputs": [
    {
     "data": {
      "application/vnd.deepnote.dataframe.v2+json": {
       "column_count": 10,
       "columns": [
        {
         "dtype": "float64",
         "name": "p_id",
         "stats": {
          "histogram": [
           {
            "bin_end": 77.7,
            "bin_start": 1,
            "count": 1
           },
           {
            "bin_end": 154.4,
            "bin_start": 77.7,
            "count": 0
           },
           {
            "bin_end": 231.10000000000002,
            "bin_start": 154.4,
            "count": 2
           },
           {
            "bin_end": 307.8,
            "bin_start": 231.10000000000002,
            "count": 0
           },
           {
            "bin_end": 384.5,
            "bin_start": 307.8,
            "count": 0
           },
           {
            "bin_end": 461.20000000000005,
            "bin_start": 384.5,
            "count": 2
           },
           {
            "bin_end": 537.9,
            "bin_start": 461.20000000000005,
            "count": 0
           },
           {
            "bin_end": 614.6,
            "bin_start": 537.9,
            "count": 2
           },
           {
            "bin_end": 691.3000000000001,
            "bin_start": 614.6,
            "count": 0
           },
           {
            "bin_end": 768,
            "bin_start": 691.3000000000001,
            "count": 1
           }
          ],
          "max": "768.0",
          "min": "1.0",
          "nan_count": 0,
          "unique_count": 8
         }
        },
        {
         "dtype": "float64",
         "name": "no_times_pregnant",
         "stats": {
          "histogram": [
           {
            "bin_end": 61.4,
            "bin_start": 0,
            "count": 7
           },
           {
            "bin_end": 122.8,
            "bin_start": 61.4,
            "count": 0
           },
           {
            "bin_end": 184.2,
            "bin_start": 122.8,
            "count": 0
           },
           {
            "bin_end": 245.6,
            "bin_start": 184.2,
            "count": 0
           },
           {
            "bin_end": 307,
            "bin_start": 245.6,
            "count": 0
           },
           {
            "bin_end": 368.4,
            "bin_start": 307,
            "count": 0
           },
           {
            "bin_end": 429.8,
            "bin_start": 368.4,
            "count": 0
           },
           {
            "bin_end": 491.2,
            "bin_start": 429.8,
            "count": 0
           },
           {
            "bin_end": 552.6,
            "bin_start": 491.2,
            "count": 0
           },
           {
            "bin_end": 614,
            "bin_start": 552.6,
            "count": 1
           }
          ],
          "max": "614.0",
          "min": "0.0",
          "nan_count": 0,
          "unique_count": 8
         }
        },
        {
         "dtype": "float64",
         "name": "glucose_concentration",
         "stats": {
          "histogram": [
           {
            "bin_end": 61.4,
            "bin_start": 0,
            "count": 2
           },
           {
            "bin_end": 122.8,
            "bin_start": 61.4,
            "count": 3
           },
           {
            "bin_end": 184.2,
            "bin_start": 122.8,
            "count": 1
           },
           {
            "bin_end": 245.6,
            "bin_start": 184.2,
            "count": 1
           },
           {
            "bin_end": 307,
            "bin_start": 245.6,
            "count": 0
           },
           {
            "bin_end": 368.4,
            "bin_start": 307,
            "count": 0
           },
           {
            "bin_end": 429.8,
            "bin_start": 368.4,
            "count": 0
           },
           {
            "bin_end": 491.2,
            "bin_start": 429.8,
            "count": 0
           },
           {
            "bin_end": 552.6,
            "bin_start": 491.2,
            "count": 0
           },
           {
            "bin_end": 614,
            "bin_start": 552.6,
            "count": 1
           }
          ],
          "max": "614.0",
          "min": "0.0",
          "nan_count": 0,
          "unique_count": 8
         }
        },
        {
         "dtype": "float64",
         "name": "blood_pressure",
         "stats": {
          "histogram": [
           {
            "bin_end": 61.4,
            "bin_start": 0,
            "count": 2
           },
           {
            "bin_end": 122.8,
            "bin_start": 61.4,
            "count": 5
           },
           {
            "bin_end": 184.2,
            "bin_start": 122.8,
            "count": 0
           },
           {
            "bin_end": 245.6,
            "bin_start": 184.2,
            "count": 0
           },
           {
            "bin_end": 307,
            "bin_start": 245.6,
            "count": 0
           },
           {
            "bin_end": 368.4,
            "bin_start": 307,
            "count": 0
           },
           {
            "bin_end": 429.8,
            "bin_start": 368.4,
            "count": 0
           },
           {
            "bin_end": 491.2,
            "bin_start": 429.8,
            "count": 0
           },
           {
            "bin_end": 552.6,
            "bin_start": 491.2,
            "count": 0
           },
           {
            "bin_end": 614,
            "bin_start": 552.6,
            "count": 1
           }
          ],
          "max": "614.0",
          "min": "0.0",
          "nan_count": 0,
          "unique_count": 8
         }
        },
        {
         "dtype": "float64",
         "name": "skin_fold_thickness",
         "stats": {
          "histogram": [
           {
            "bin_end": 61.4,
            "bin_start": 0,
            "count": 6
           },
           {
            "bin_end": 122.8,
            "bin_start": 61.4,
            "count": 1
           },
           {
            "bin_end": 184.2,
            "bin_start": 122.8,
            "count": 0
           },
           {
            "bin_end": 245.6,
            "bin_start": 184.2,
            "count": 0
           },
           {
            "bin_end": 307,
            "bin_start": 245.6,
            "count": 0
           },
           {
            "bin_end": 368.4,
            "bin_start": 307,
            "count": 0
           },
           {
            "bin_end": 429.8,
            "bin_start": 368.4,
            "count": 0
           },
           {
            "bin_end": 491.2,
            "bin_start": 429.8,
            "count": 0
           },
           {
            "bin_end": 552.6,
            "bin_start": 491.2,
            "count": 0
           },
           {
            "bin_end": 614,
            "bin_start": 552.6,
            "count": 1
           }
          ],
          "max": "614.0",
          "min": "0.0",
          "nan_count": 0,
          "unique_count": 7
         }
        },
        {
         "dtype": "float64",
         "name": "serum_insulin",
         "stats": {
          "histogram": [
           {
            "bin_end": 84.6,
            "bin_start": 0,
            "count": 4
           },
           {
            "bin_end": 169.2,
            "bin_start": 84.6,
            "count": 2
           },
           {
            "bin_end": 253.79999999999998,
            "bin_start": 169.2,
            "count": 0
           },
           {
            "bin_end": 338.4,
            "bin_start": 253.79999999999998,
            "count": 0
           },
           {
            "bin_end": 423,
            "bin_start": 338.4,
            "count": 0
           },
           {
            "bin_end": 507.59999999999997,
            "bin_start": 423,
            "count": 0
           },
           {
            "bin_end": 592.1999999999999,
            "bin_start": 507.59999999999997,
            "count": 0
           },
           {
            "bin_end": 676.8,
            "bin_start": 592.1999999999999,
            "count": 1
           },
           {
            "bin_end": 761.4,
            "bin_start": 676.8,
            "count": 0
           },
           {
            "bin_end": 846,
            "bin_start": 761.4,
            "count": 1
           }
          ],
          "max": "846.0",
          "min": "0.0",
          "nan_count": 0,
          "unique_count": 7
         }
        },
        {
         "dtype": "float64",
         "name": "bmi",
         "stats": {
          "histogram": [
           {
            "bin_end": 61.4,
            "bin_start": 0,
            "count": 7
           },
           {
            "bin_end": 122.8,
            "bin_start": 61.4,
            "count": 0
           },
           {
            "bin_end": 184.2,
            "bin_start": 122.8,
            "count": 0
           },
           {
            "bin_end": 245.6,
            "bin_start": 184.2,
            "count": 0
           },
           {
            "bin_end": 307,
            "bin_start": 245.6,
            "count": 0
           },
           {
            "bin_end": 368.4,
            "bin_start": 307,
            "count": 0
           },
           {
            "bin_end": 429.8,
            "bin_start": 368.4,
            "count": 0
           },
           {
            "bin_end": 491.2,
            "bin_start": 429.8,
            "count": 0
           },
           {
            "bin_end": 552.6,
            "bin_start": 491.2,
            "count": 0
           },
           {
            "bin_end": 614,
            "bin_start": 552.6,
            "count": 1
           }
          ],
          "max": "614.0",
          "min": "0.0",
          "nan_count": 0,
          "unique_count": 8
         }
        },
        {
         "dtype": "float64",
         "name": "diabetes pedigree",
         "stats": {
          "histogram": [
           {
            "bin_end": 61.470200000000006,
            "bin_start": 0.078,
            "count": 7
           },
           {
            "bin_end": 122.86240000000001,
            "bin_start": 61.470200000000006,
            "count": 0
           },
           {
            "bin_end": 184.2546,
            "bin_start": 122.86240000000001,
            "count": 0
           },
           {
            "bin_end": 245.6468,
            "bin_start": 184.2546,
            "count": 0
           },
           {
            "bin_end": 307.039,
            "bin_start": 245.6468,
            "count": 0
           },
           {
            "bin_end": 368.4312,
            "bin_start": 307.039,
            "count": 0
           },
           {
            "bin_end": 429.8234,
            "bin_start": 368.4312,
            "count": 0
           },
           {
            "bin_end": 491.2156,
            "bin_start": 429.8234,
            "count": 0
           },
           {
            "bin_end": 552.6078,
            "bin_start": 491.2156,
            "count": 0
           },
           {
            "bin_end": 614,
            "bin_start": 552.6078,
            "count": 1
           }
          ],
          "max": "614.0",
          "min": "0.078",
          "nan_count": 0,
          "unique_count": 8
         }
        },
        {
         "dtype": "float64",
         "name": "age",
         "stats": {
          "histogram": [
           {
            "bin_end": 72.13661169939655,
            "bin_start": 11.929568554885051,
            "count": 6
           },
           {
            "bin_end": 132.34365484390804,
            "bin_start": 72.13661169939655,
            "count": 1
           },
           {
            "bin_end": 192.55069798841959,
            "bin_start": 132.34365484390804,
            "count": 0
           },
           {
            "bin_end": 252.75774113293107,
            "bin_start": 192.55069798841959,
            "count": 0
           },
           {
            "bin_end": 312.96478427744256,
            "bin_start": 252.75774113293107,
            "count": 0
           },
           {
            "bin_end": 373.1718274219541,
            "bin_start": 312.96478427744256,
            "count": 0
           },
           {
            "bin_end": 433.3788705664656,
            "bin_start": 373.1718274219541,
            "count": 0
           },
           {
            "bin_end": 493.5859137109771,
            "bin_start": 433.3788705664656,
            "count": 0
           },
           {
            "bin_end": 553.7929568554886,
            "bin_start": 493.5859137109771,
            "count": 0
           },
           {
            "bin_end": 614,
            "bin_start": 553.7929568554886,
            "count": 1
           }
          ],
          "max": "614.0",
          "min": "11.929568554885051",
          "nan_count": 0,
          "unique_count": 8
         }
        },
        {
         "dtype": "float64",
         "name": "diabetes",
         "stats": {
          "histogram": [
           {
            "bin_end": 61.4,
            "bin_start": 0,
            "count": 7
           },
           {
            "bin_end": 122.8,
            "bin_start": 61.4,
            "count": 0
           },
           {
            "bin_end": 184.2,
            "bin_start": 122.8,
            "count": 0
           },
           {
            "bin_end": 245.6,
            "bin_start": 184.2,
            "count": 0
           },
           {
            "bin_end": 307,
            "bin_start": 245.6,
            "count": 0
           },
           {
            "bin_end": 368.4,
            "bin_start": 307,
            "count": 0
           },
           {
            "bin_end": 429.8,
            "bin_start": 368.4,
            "count": 0
           },
           {
            "bin_end": 491.2,
            "bin_start": 429.8,
            "count": 0
           },
           {
            "bin_end": 552.6,
            "bin_start": 491.2,
            "count": 0
           },
           {
            "bin_end": 614,
            "bin_start": 552.6,
            "count": 1
           }
          ],
          "max": "614.0",
          "min": "0.0",
          "nan_count": 0,
          "unique_count": 5
         }
        },
        {
         "dtype": "object",
         "name": "_deepnote_index_column"
        }
       ],
       "row_count": 8,
       "rows_bottom": null,
       "rows_top": [
        {
         "_deepnote_index_column": "count",
         "age": 614,
         "blood_pressure": 614,
         "bmi": 614,
         "diabetes": 614,
         "diabetes pedigree": 614,
         "glucose_concentration": 614,
         "no_times_pregnant": 614,
         "p_id": 614,
         "serum_insulin": 614,
         "skin_fold_thickness": 614
        },
        {
         "_deepnote_index_column": "mean",
         "age": 33.3257328990228,
         "blood_pressure": 68.76547231270358,
         "bmi": 31.909934853420197,
         "diabetes": 0.3485342019543974,
         "diabetes pedigree": 0.466342019543974,
         "glucose_concentration": 120.54234527687296,
         "no_times_pregnant": 3.8534201954397393,
         "p_id": 385.77361563517917,
         "serum_insulin": 79.35504885993485,
         "skin_fold_thickness": 20.2442996742671
        },
        {
         "_deepnote_index_column": "std",
         "age": 11.929568554885051,
         "blood_pressure": 19.914836133566386,
         "bmi": 8.00769912936813,
         "diabetes": 0.4768946600380981,
         "diabetes pedigree": 0.33109033915985064,
         "glucose_concentration": 31.252286024647812,
         "no_times_pregnant": 3.3581261324851353,
         "p_id": 223.60302424426177,
         "serum_insulin": 117.7099498729839,
         "skin_fold_thickness": 15.886082793033419
        },
        {
         "_deepnote_index_column": "min",
         "age": 21,
         "blood_pressure": 0,
         "bmi": 0,
         "diabetes": 0,
         "diabetes pedigree": 0.078,
         "glucose_concentration": 0,
         "no_times_pregnant": 0,
         "p_id": 1,
         "serum_insulin": 0,
         "skin_fold_thickness": 0
        },
        {
         "_deepnote_index_column": "25%",
         "age": 24,
         "blood_pressure": 62,
         "bmi": 27.3,
         "diabetes": 0,
         "diabetes pedigree": 0.24025,
         "glucose_concentration": 99,
         "no_times_pregnant": 1,
         "p_id": 191.25,
         "serum_insulin": 0,
         "skin_fold_thickness": 0
        },
        {
         "_deepnote_index_column": "50%",
         "age": 29,
         "blood_pressure": 72,
         "bmi": 32,
         "diabetes": 0,
         "diabetes pedigree": 0.361,
         "glucose_concentration": 117,
         "no_times_pregnant": 3,
         "p_id": 387,
         "serum_insulin": 17,
         "skin_fold_thickness": 23
        },
        {
         "_deepnote_index_column": "75%",
         "age": 41,
         "blood_pressure": 80,
         "bmi": 36.6,
         "diabetes": 1,
         "diabetes pedigree": 0.6135,
         "glucose_concentration": 139,
         "no_times_pregnant": 6,
         "p_id": 572.75,
         "serum_insulin": 126,
         "skin_fold_thickness": 32
        },
        {
         "_deepnote_index_column": "max",
         "age": 81,
         "blood_pressure": 114,
         "bmi": 59.4,
         "diabetes": 1,
         "diabetes pedigree": 2.42,
         "glucose_concentration": 197,
         "no_times_pregnant": 17,
         "p_id": 768,
         "serum_insulin": 846,
         "skin_fold_thickness": 63
        }
       ]
      },
      "text/html": [
       "<div>\n",
       "<style scoped>\n",
       "    .dataframe tbody tr th:only-of-type {\n",
       "        vertical-align: middle;\n",
       "    }\n",
       "\n",
       "    .dataframe tbody tr th {\n",
       "        vertical-align: top;\n",
       "    }\n",
       "\n",
       "    .dataframe thead th {\n",
       "        text-align: right;\n",
       "    }\n",
       "</style>\n",
       "<table border=\"1\" class=\"dataframe\">\n",
       "  <thead>\n",
       "    <tr style=\"text-align: right;\">\n",
       "      <th></th>\n",
       "      <th>p_id</th>\n",
       "      <th>no_times_pregnant</th>\n",
       "      <th>glucose_concentration</th>\n",
       "      <th>blood_pressure</th>\n",
       "      <th>skin_fold_thickness</th>\n",
       "      <th>serum_insulin</th>\n",
       "      <th>bmi</th>\n",
       "      <th>diabetes pedigree</th>\n",
       "      <th>age</th>\n",
       "      <th>diabetes</th>\n",
       "    </tr>\n",
       "  </thead>\n",
       "  <tbody>\n",
       "    <tr>\n",
       "      <th>count</th>\n",
       "      <td>614.000000</td>\n",
       "      <td>614.000000</td>\n",
       "      <td>614.000000</td>\n",
       "      <td>614.000000</td>\n",
       "      <td>614.000000</td>\n",
       "      <td>614.000000</td>\n",
       "      <td>614.000000</td>\n",
       "      <td>614.000000</td>\n",
       "      <td>614.000000</td>\n",
       "      <td>614.000000</td>\n",
       "    </tr>\n",
       "    <tr>\n",
       "      <th>mean</th>\n",
       "      <td>385.773616</td>\n",
       "      <td>3.853420</td>\n",
       "      <td>120.542345</td>\n",
       "      <td>68.765472</td>\n",
       "      <td>20.244300</td>\n",
       "      <td>79.355049</td>\n",
       "      <td>31.909935</td>\n",
       "      <td>0.466342</td>\n",
       "      <td>33.325733</td>\n",
       "      <td>0.348534</td>\n",
       "    </tr>\n",
       "    <tr>\n",
       "      <th>std</th>\n",
       "      <td>223.603024</td>\n",
       "      <td>3.358126</td>\n",
       "      <td>31.252286</td>\n",
       "      <td>19.914836</td>\n",
       "      <td>15.886083</td>\n",
       "      <td>117.709950</td>\n",
       "      <td>8.007699</td>\n",
       "      <td>0.331090</td>\n",
       "      <td>11.929569</td>\n",
       "      <td>0.476895</td>\n",
       "    </tr>\n",
       "    <tr>\n",
       "      <th>min</th>\n",
       "      <td>1.000000</td>\n",
       "      <td>0.000000</td>\n",
       "      <td>0.000000</td>\n",
       "      <td>0.000000</td>\n",
       "      <td>0.000000</td>\n",
       "      <td>0.000000</td>\n",
       "      <td>0.000000</td>\n",
       "      <td>0.078000</td>\n",
       "      <td>21.000000</td>\n",
       "      <td>0.000000</td>\n",
       "    </tr>\n",
       "    <tr>\n",
       "      <th>25%</th>\n",
       "      <td>191.250000</td>\n",
       "      <td>1.000000</td>\n",
       "      <td>99.000000</td>\n",
       "      <td>62.000000</td>\n",
       "      <td>0.000000</td>\n",
       "      <td>0.000000</td>\n",
       "      <td>27.300000</td>\n",
       "      <td>0.240250</td>\n",
       "      <td>24.000000</td>\n",
       "      <td>0.000000</td>\n",
       "    </tr>\n",
       "    <tr>\n",
       "      <th>50%</th>\n",
       "      <td>387.000000</td>\n",
       "      <td>3.000000</td>\n",
       "      <td>117.000000</td>\n",
       "      <td>72.000000</td>\n",
       "      <td>23.000000</td>\n",
       "      <td>17.000000</td>\n",
       "      <td>32.000000</td>\n",
       "      <td>0.361000</td>\n",
       "      <td>29.000000</td>\n",
       "      <td>0.000000</td>\n",
       "    </tr>\n",
       "    <tr>\n",
       "      <th>75%</th>\n",
       "      <td>572.750000</td>\n",
       "      <td>6.000000</td>\n",
       "      <td>139.000000</td>\n",
       "      <td>80.000000</td>\n",
       "      <td>32.000000</td>\n",
       "      <td>126.000000</td>\n",
       "      <td>36.600000</td>\n",
       "      <td>0.613500</td>\n",
       "      <td>41.000000</td>\n",
       "      <td>1.000000</td>\n",
       "    </tr>\n",
       "    <tr>\n",
       "      <th>max</th>\n",
       "      <td>768.000000</td>\n",
       "      <td>17.000000</td>\n",
       "      <td>197.000000</td>\n",
       "      <td>114.000000</td>\n",
       "      <td>63.000000</td>\n",
       "      <td>846.000000</td>\n",
       "      <td>59.400000</td>\n",
       "      <td>2.420000</td>\n",
       "      <td>81.000000</td>\n",
       "      <td>1.000000</td>\n",
       "    </tr>\n",
       "  </tbody>\n",
       "</table>\n",
       "</div>"
      ],
      "text/plain": [
       "             p_id  no_times_pregnant  glucose_concentration  blood_pressure  \\\n",
       "count  614.000000         614.000000             614.000000      614.000000   \n",
       "mean   385.773616           3.853420             120.542345       68.765472   \n",
       "std    223.603024           3.358126              31.252286       19.914836   \n",
       "min      1.000000           0.000000               0.000000        0.000000   \n",
       "25%    191.250000           1.000000              99.000000       62.000000   \n",
       "50%    387.000000           3.000000             117.000000       72.000000   \n",
       "75%    572.750000           6.000000             139.000000       80.000000   \n",
       "max    768.000000          17.000000             197.000000      114.000000   \n",
       "\n",
       "       skin_fold_thickness  serum_insulin         bmi  diabetes pedigree  \\\n",
       "count           614.000000     614.000000  614.000000         614.000000   \n",
       "mean             20.244300      79.355049   31.909935           0.466342   \n",
       "std              15.886083     117.709950    8.007699           0.331090   \n",
       "min               0.000000       0.000000    0.000000           0.078000   \n",
       "25%               0.000000       0.000000   27.300000           0.240250   \n",
       "50%              23.000000      17.000000   32.000000           0.361000   \n",
       "75%              32.000000     126.000000   36.600000           0.613500   \n",
       "max              63.000000     846.000000   59.400000           2.420000   \n",
       "\n",
       "              age    diabetes  \n",
       "count  614.000000  614.000000  \n",
       "mean    33.325733    0.348534  \n",
       "std     11.929569    0.476895  \n",
       "min     21.000000    0.000000  \n",
       "25%     24.000000    0.000000  \n",
       "50%     29.000000    0.000000  \n",
       "75%     41.000000    1.000000  \n",
       "max     81.000000    1.000000  "
      ]
     },
     "execution_count": 4,
     "metadata": {},
     "output_type": "execute_result"
    }
   ],
   "source": [
    "# statistics from dataset\n",
    "diabetes_data.describe()"
   ]
  },
  {
   "cell_type": "markdown",
   "metadata": {
    "cell_id": "00012-f4cb793e-8d8b-4c76-b61f-64b05598d65d",
    "deepnote_cell_type": "markdown",
    "tags": []
   },
   "source": [
    "From this, we realised that the variables `glucose_concentration`, `blood_pressure`, `skin_fold_thickness`, `serum_insulin` and `bmi` have values of **0**. However, in reality, these variables **cannot be 0**, rendering them to be **invalid data**. \n",
    "\n",
    "Hence, we decided to replace these values with **NaN**."
   ]
  },
  {
   "cell_type": "code",
   "execution_count": 5,
   "metadata": {
    "cell_id": "00013-e1b45613-6e77-47af-8533-0bf82ca71502",
    "deepnote_cell_type": "code",
    "deepnote_to_be_reexecuted": false,
    "execution_millis": 4,
    "execution_start": 1624113467839,
    "source_hash": "17349069",
    "tags": []
   },
   "outputs": [],
   "source": [
    "invalid_columns = ['glucose_concentration','blood_pressure','skin_fold_thickness','serum_insulin','bmi']\n",
    "diabetes_data[invalid_columns] = diabetes_data[invalid_columns].replace(0,np.nan)"
   ]
  },
  {
   "cell_type": "code",
   "execution_count": 6,
   "metadata": {
    "cell_id": "00014-1681a50a-abdd-4540-8791-9fe6467fdd83",
    "deepnote_cell_type": "code",
    "deepnote_to_be_reexecuted": false,
    "execution_millis": 7,
    "execution_start": 1624113467886,
    "source_hash": "5e55e708",
    "tags": []
   },
   "outputs": [
    {
     "data": {
      "text/plain": [
       "p_id                     1.000000\n",
       "no_times_pregnant        1.000000\n",
       "glucose_concentration    0.993485\n",
       "blood_pressure           0.949511\n",
       "skin_fold_thickness      0.695440\n",
       "serum_insulin            0.504886\n",
       "bmi                      0.983713\n",
       "diabetes pedigree        1.000000\n",
       "age                      1.000000\n",
       "diabetes                 1.000000\n",
       "dtype: float64"
      ]
     },
     "execution_count": 6,
     "metadata": {},
     "output_type": "execute_result"
    }
   ],
   "source": [
    "# to count the percentage of elements which is not NaN for each column.\n",
    "diabetes_data.count() / n_rows"
   ]
  },
  {
   "cell_type": "markdown",
   "metadata": {
    "cell_id": "00015-cf91de3e-0af2-4c6b-bb71-8fbcf2013d23",
    "deepnote_cell_type": "markdown",
    "tags": []
   },
   "source": [
    "As shown above, since `serum_insulin` and `skin_fold_thickness` have **> 30% of NaN values**, we decided to **drop these 2 columns**.\n",
    " \n"
   ]
  },
  {
   "cell_type": "code",
   "execution_count": 7,
   "metadata": {
    "cell_id": "00016-80bddc10-b4c4-4025-8645-086cace190a8",
    "deepnote_cell_type": "code",
    "deepnote_to_be_reexecuted": false,
    "execution_millis": 6,
    "execution_start": 1624113467887,
    "source_hash": "dd6d8e42",
    "tags": []
   },
   "outputs": [
    {
     "name": "stdout",
     "output_type": "stream",
     "text": [
      "The shape of the resulting dataframe is now (614, 8)\n"
     ]
    }
   ],
   "source": [
    "#dropping serum_insulin and skin_fold_thickness columns \n",
    "diabetes_data.drop(columns=['serum_insulin', 'skin_fold_thickness'], inplace=True)\n",
    "\n",
    "print(f\"The shape of the resulting dataframe is now {diabetes_data.shape}\")"
   ]
  },
  {
   "cell_type": "code",
   "execution_count": 8,
   "metadata": {
    "cell_id": "00017-06aa6b5e-2d2e-4e76-b590-a1fefabbaf1c",
    "deepnote_cell_type": "code",
    "deepnote_to_be_reexecuted": false,
    "execution_millis": 53,
    "execution_start": 1624113467887,
    "source_hash": "d34d0f54",
    "tags": []
   },
   "outputs": [
    {
     "data": {
      "application/vnd.deepnote.dataframe.v2+json": {
       "column_count": 8,
       "columns": [
        {
         "dtype": "int64",
         "name": "p_id",
         "stats": {
          "histogram": [
           {
            "bin_end": 93.5,
            "bin_start": 25,
            "count": 1
           },
           {
            "bin_end": 162,
            "bin_start": 93.5,
            "count": 0
           },
           {
            "bin_end": 230.5,
            "bin_start": 162,
            "count": 0
           },
           {
            "bin_end": 299,
            "bin_start": 230.5,
            "count": 0
           },
           {
            "bin_end": 367.5,
            "bin_start": 299,
            "count": 1
           },
           {
            "bin_end": 436,
            "bin_start": 367.5,
            "count": 0
           },
           {
            "bin_end": 504.5,
            "bin_start": 436,
            "count": 0
           },
           {
            "bin_end": 573,
            "bin_start": 504.5,
            "count": 1
           },
           {
            "bin_end": 641.5,
            "bin_start": 573,
            "count": 0
           },
           {
            "bin_end": 710,
            "bin_start": 641.5,
            "count": 2
           }
          ],
          "max": "710",
          "min": "25",
          "nan_count": 0,
          "unique_count": 5
         }
        },
        {
         "dtype": "int64",
         "name": "no_times_pregnant",
         "stats": {
          "histogram": [
           {
            "bin_end": 2,
            "bin_start": 1,
            "count": 1
           },
           {
            "bin_end": 3,
            "bin_start": 2,
            "count": 2
           },
           {
            "bin_end": 4,
            "bin_start": 3,
            "count": 1
           },
           {
            "bin_end": 5,
            "bin_start": 4,
            "count": 0
           },
           {
            "bin_end": 6,
            "bin_start": 5,
            "count": 0
           },
           {
            "bin_end": 7,
            "bin_start": 6,
            "count": 0
           },
           {
            "bin_end": 8,
            "bin_start": 7,
            "count": 0
           },
           {
            "bin_end": 9,
            "bin_start": 8,
            "count": 0
           },
           {
            "bin_end": 10,
            "bin_start": 9,
            "count": 0
           },
           {
            "bin_end": 11,
            "bin_start": 10,
            "count": 1
           }
          ],
          "max": "11",
          "min": "1",
          "nan_count": 0,
          "unique_count": 4
         }
        },
        {
         "dtype": "float64",
         "name": "glucose_concentration",
         "stats": {
          "histogram": [
           {
            "bin_end": 98,
            "bin_start": 93,
            "count": 1
           },
           {
            "bin_end": 103,
            "bin_start": 98,
            "count": 0
           },
           {
            "bin_end": 108,
            "bin_start": 103,
            "count": 0
           },
           {
            "bin_end": 113,
            "bin_start": 108,
            "count": 1
           },
           {
            "bin_end": 118,
            "bin_start": 113,
            "count": 0
           },
           {
            "bin_end": 123,
            "bin_start": 118,
            "count": 1
           },
           {
            "bin_end": 128,
            "bin_start": 123,
            "count": 0
           },
           {
            "bin_end": 133,
            "bin_start": 128,
            "count": 1
           },
           {
            "bin_end": 138,
            "bin_start": 133,
            "count": 0
           },
           {
            "bin_end": 143,
            "bin_start": 138,
            "count": 1
           }
          ],
          "max": "143.0",
          "min": "93.0",
          "nan_count": 0,
          "unique_count": 5
         }
        },
        {
         "dtype": "float64",
         "name": "blood_pressure",
         "stats": {
          "histogram": [
           {
            "bin_end": 67,
            "bin_start": 64,
            "count": 1
           },
           {
            "bin_end": 70,
            "bin_start": 67,
            "count": 1
           },
           {
            "bin_end": 73,
            "bin_start": 70,
            "count": 1
           },
           {
            "bin_end": 76,
            "bin_start": 73,
            "count": 0
           },
           {
            "bin_end": 79,
            "bin_start": 76,
            "count": 0
           },
           {
            "bin_end": 82,
            "bin_start": 79,
            "count": 1
           },
           {
            "bin_end": 85,
            "bin_start": 82,
            "count": 0
           },
           {
            "bin_end": 88,
            "bin_start": 85,
            "count": 0
           },
           {
            "bin_end": 91,
            "bin_start": 88,
            "count": 0
           },
           {
            "bin_end": 94,
            "bin_start": 91,
            "count": 1
           }
          ],
          "max": "94.0",
          "min": "64.0",
          "nan_count": 0,
          "unique_count": 5
         }
        },
        {
         "dtype": "float64",
         "name": "bmi",
         "stats": {
          "histogram": [
           {
            "bin_end": 33.05,
            "bin_start": 32.4,
            "count": 1
           },
           {
            "bin_end": 33.699999999999996,
            "bin_start": 33.05,
            "count": 0
           },
           {
            "bin_end": 34.35,
            "bin_start": 33.699999999999996,
            "count": 1
           },
           {
            "bin_end": 35,
            "bin_start": 34.35,
            "count": 0
           },
           {
            "bin_end": 35.65,
            "bin_start": 35,
            "count": 0
           },
           {
            "bin_end": 36.3,
            "bin_start": 35.65,
            "count": 0
           },
           {
            "bin_end": 36.949999999999996,
            "bin_start": 36.3,
            "count": 1
           },
           {
            "bin_end": 37.6,
            "bin_start": 36.949999999999996,
            "count": 0
           },
           {
            "bin_end": 38.25,
            "bin_start": 37.6,
            "count": 1
           },
           {
            "bin_end": 38.9,
            "bin_start": 38.25,
            "count": 1
           }
          ],
          "max": "38.9",
          "min": "32.4",
          "nan_count": 0,
          "unique_count": 5
         }
        },
        {
         "dtype": "float64",
         "name": "diabetes pedigree",
         "stats": {
          "histogram": [
           {
            "bin_end": 0.3448,
            "bin_start": 0.254,
            "count": 2
           },
           {
            "bin_end": 0.4356,
            "bin_start": 0.3448,
            "count": 0
           },
           {
            "bin_end": 0.5264,
            "bin_start": 0.4356,
            "count": 0
           },
           {
            "bin_end": 0.6172,
            "bin_start": 0.5264,
            "count": 1
           },
           {
            "bin_end": 0.708,
            "bin_start": 0.6172,
            "count": 1
           },
           {
            "bin_end": 0.7988,
            "bin_start": 0.708,
            "count": 0
           },
           {
            "bin_end": 0.8896,
            "bin_start": 0.7988,
            "count": 0
           },
           {
            "bin_end": 0.9803999999999999,
            "bin_start": 0.8896,
            "count": 0
           },
           {
            "bin_end": 1.0712,
            "bin_start": 0.9803999999999999,
            "count": 0
           },
           {
            "bin_end": 1.162,
            "bin_start": 1.0712,
            "count": 1
           }
          ],
          "max": "1.162",
          "min": "0.254",
          "nan_count": 0,
          "unique_count": 5
         }
        },
        {
         "dtype": "int64",
         "name": "age",
         "stats": {
          "histogram": [
           {
            "bin_end": 25.8,
            "bin_start": 23,
            "count": 1
           },
           {
            "bin_end": 28.6,
            "bin_start": 25.8,
            "count": 2
           },
           {
            "bin_end": 31.4,
            "bin_start": 28.6,
            "count": 0
           },
           {
            "bin_end": 34.2,
            "bin_start": 31.4,
            "count": 0
           },
           {
            "bin_end": 37,
            "bin_start": 34.2,
            "count": 0
           },
           {
            "bin_end": 39.8,
            "bin_start": 37,
            "count": 0
           },
           {
            "bin_end": 42.599999999999994,
            "bin_start": 39.8,
            "count": 1
           },
           {
            "bin_end": 45.4,
            "bin_start": 42.599999999999994,
            "count": 0
           },
           {
            "bin_end": 48.2,
            "bin_start": 45.4,
            "count": 0
           },
           {
            "bin_end": 51,
            "bin_start": 48.2,
            "count": 1
           }
          ],
          "max": "51",
          "min": "23",
          "nan_count": 0,
          "unique_count": 5
         }
        },
        {
         "dtype": "int64",
         "name": "diabetes",
         "stats": {
          "histogram": [
           {
            "bin_end": 0.1,
            "bin_start": 0,
            "count": 2
           },
           {
            "bin_end": 0.2,
            "bin_start": 0.1,
            "count": 0
           },
           {
            "bin_end": 0.30000000000000004,
            "bin_start": 0.2,
            "count": 0
           },
           {
            "bin_end": 0.4,
            "bin_start": 0.30000000000000004,
            "count": 0
           },
           {
            "bin_end": 0.5,
            "bin_start": 0.4,
            "count": 0
           },
           {
            "bin_end": 0.6000000000000001,
            "bin_start": 0.5,
            "count": 0
           },
           {
            "bin_end": 0.7000000000000001,
            "bin_start": 0.6000000000000001,
            "count": 0
           },
           {
            "bin_end": 0.8,
            "bin_start": 0.7000000000000001,
            "count": 0
           },
           {
            "bin_end": 0.9,
            "bin_start": 0.8,
            "count": 0
           },
           {
            "bin_end": 1,
            "bin_start": 0.9,
            "count": 3
           }
          ],
          "max": "1",
          "min": "0",
          "nan_count": 0,
          "unique_count": 2
         }
        },
        {
         "dtype": "int64",
         "name": "_deepnote_index_column"
        }
       ],
       "row_count": 5,
       "rows_bottom": null,
       "rows_top": [
        {
         "_deepnote_index_column": 0,
         "age": 26,
         "blood_pressure": 68,
         "bmi": 34.1,
         "diabetes": 0,
         "diabetes pedigree": 0.315,
         "glucose_concentration": 112,
         "no_times_pregnant": 2,
         "p_id": 316
        },
        {
         "_deepnote_index_column": 1,
         "age": 51,
         "blood_pressure": 94,
         "bmi": 36.6,
         "diabetes": 1,
         "diabetes pedigree": 0.254,
         "glucose_concentration": 143,
         "no_times_pregnant": 11,
         "p_id": 25
        },
        {
         "_deepnote_index_column": 2,
         "age": 23,
         "blood_pressure": 64,
         "bmi": 38,
         "diabetes": 1,
         "diabetes pedigree": 0.674,
         "glucose_concentration": 93,
         "no_times_pregnant": 2,
         "p_id": 710
        },
        {
         "_deepnote_index_column": 3,
         "age": 41,
         "blood_pressure": 80,
         "bmi": 38.9,
         "diabetes": 0,
         "diabetes pedigree": 1.162,
         "glucose_concentration": 120,
         "no_times_pregnant": 1,
         "p_id": 658
        },
        {
         "_deepnote_index_column": 4,
         "age": 27,
         "blood_pressure": 72,
         "bmi": 32.4,
         "diabetes": 1,
         "diabetes pedigree": 0.549,
         "glucose_concentration": 128,
         "no_times_pregnant": 3,
         "p_id": 542
        }
       ]
      },
      "text/html": [
       "<div>\n",
       "<style scoped>\n",
       "    .dataframe tbody tr th:only-of-type {\n",
       "        vertical-align: middle;\n",
       "    }\n",
       "\n",
       "    .dataframe tbody tr th {\n",
       "        vertical-align: top;\n",
       "    }\n",
       "\n",
       "    .dataframe thead th {\n",
       "        text-align: right;\n",
       "    }\n",
       "</style>\n",
       "<table border=\"1\" class=\"dataframe\">\n",
       "  <thead>\n",
       "    <tr style=\"text-align: right;\">\n",
       "      <th></th>\n",
       "      <th>p_id</th>\n",
       "      <th>no_times_pregnant</th>\n",
       "      <th>glucose_concentration</th>\n",
       "      <th>blood_pressure</th>\n",
       "      <th>bmi</th>\n",
       "      <th>diabetes pedigree</th>\n",
       "      <th>age</th>\n",
       "      <th>diabetes</th>\n",
       "    </tr>\n",
       "  </thead>\n",
       "  <tbody>\n",
       "    <tr>\n",
       "      <th>0</th>\n",
       "      <td>316</td>\n",
       "      <td>2</td>\n",
       "      <td>112.0</td>\n",
       "      <td>68.0</td>\n",
       "      <td>34.1</td>\n",
       "      <td>0.315</td>\n",
       "      <td>26</td>\n",
       "      <td>0</td>\n",
       "    </tr>\n",
       "    <tr>\n",
       "      <th>1</th>\n",
       "      <td>25</td>\n",
       "      <td>11</td>\n",
       "      <td>143.0</td>\n",
       "      <td>94.0</td>\n",
       "      <td>36.6</td>\n",
       "      <td>0.254</td>\n",
       "      <td>51</td>\n",
       "      <td>1</td>\n",
       "    </tr>\n",
       "    <tr>\n",
       "      <th>2</th>\n",
       "      <td>710</td>\n",
       "      <td>2</td>\n",
       "      <td>93.0</td>\n",
       "      <td>64.0</td>\n",
       "      <td>38.0</td>\n",
       "      <td>0.674</td>\n",
       "      <td>23</td>\n",
       "      <td>1</td>\n",
       "    </tr>\n",
       "    <tr>\n",
       "      <th>3</th>\n",
       "      <td>658</td>\n",
       "      <td>1</td>\n",
       "      <td>120.0</td>\n",
       "      <td>80.0</td>\n",
       "      <td>38.9</td>\n",
       "      <td>1.162</td>\n",
       "      <td>41</td>\n",
       "      <td>0</td>\n",
       "    </tr>\n",
       "    <tr>\n",
       "      <th>4</th>\n",
       "      <td>542</td>\n",
       "      <td>3</td>\n",
       "      <td>128.0</td>\n",
       "      <td>72.0</td>\n",
       "      <td>32.4</td>\n",
       "      <td>0.549</td>\n",
       "      <td>27</td>\n",
       "      <td>1</td>\n",
       "    </tr>\n",
       "  </tbody>\n",
       "</table>\n",
       "</div>"
      ],
      "text/plain": [
       "   p_id  no_times_pregnant  glucose_concentration  blood_pressure   bmi  \\\n",
       "0   316                  2                  112.0            68.0  34.1   \n",
       "1    25                 11                  143.0            94.0  36.6   \n",
       "2   710                  2                   93.0            64.0  38.0   \n",
       "3   658                  1                  120.0            80.0  38.9   \n",
       "4   542                  3                  128.0            72.0  32.4   \n",
       "\n",
       "   diabetes pedigree  age  diabetes  \n",
       "0              0.315   26         0  \n",
       "1              0.254   51         1  \n",
       "2              0.674   23         1  \n",
       "3              1.162   41         0  \n",
       "4              0.549   27         1  "
      ]
     },
     "execution_count": 8,
     "metadata": {},
     "output_type": "execute_result"
    }
   ],
   "source": [
    "diabetes_data.head()"
   ]
  },
  {
   "cell_type": "markdown",
   "metadata": {
    "cell_id": "00017-8226669d-f396-46a3-bb23-aaf20677d067",
    "deepnote_cell_type": "markdown",
    "tags": []
   },
   "source": [
    "Since there are little NaN values (< 10%) for `glucose_concentration`, `blood_pressure` and `bmi`, we decided to **impute** the NaN values for these variables with the **mean** using `sklearn SimpleImputer`."
   ]
  },
  {
   "cell_type": "code",
   "execution_count": 9,
   "metadata": {
    "cell_id": "00018-594181d5-3f42-4ece-9923-e23b826cb2fd",
    "deepnote_cell_type": "code",
    "deepnote_to_be_reexecuted": false,
    "execution_millis": 870,
    "execution_start": 1624113467934,
    "source_hash": "70704cd5",
    "tags": []
   },
   "outputs": [],
   "source": [
    "#Importing the impute class\n",
    "from sklearn.impute import SimpleImputer\n",
    "\n",
    "#Imputer object using the mean_strategy and missing values type for imputation\n",
    "imputer = SimpleImputer(missing_values=np.nan, strategy = 'mean')\n",
    "imputer = imputer.fit(diabetes_data)\n",
    "\n",
    "#imputing the values \n",
    "diabetes_data = pd.DataFrame(imputer.transform(diabetes_data), columns = ['p_id','no_times_pregnant','glucose_concentration', 'blood_pressure', 'bmi', 'diabetes pedigree', 'age', 'diabetes']) "
   ]
  },
  {
   "cell_type": "code",
   "execution_count": 10,
   "metadata": {
    "cell_id": "00009-1c4fd432-57b2-4c70-bad8-7f1de238bf7c",
    "deepnote_cell_type": "code",
    "deepnote_to_be_reexecuted": false,
    "execution_millis": 44,
    "execution_start": 1624113468844,
    "source_hash": "3e49650a",
    "tags": []
   },
   "outputs": [
    {
     "name": "stdout",
     "output_type": "stream",
     "text": [
      "Column no_times_pregnant:  outliers = 0.49%\n",
      "Column glucose_concentration:  outliers = 0.00%\n",
      "Column blood_pressure:  outliers = 1.47%\n",
      "Column bmi:  outliers = 0.98%\n",
      "Column diabetes pedigree:  outliers = 4.23%\n",
      "Column age:  outliers = 1.47%\n"
     ]
    }
   ],
   "source": [
    "# This code finds out the percentage of outliers for every variable in the dataset, following the IQR definition of outliers\n",
    "\n",
    "for k, v in diabetes_data.items(): \n",
    "    # we will not be finding the outliers for Diabetes and P_ID since they are categorical\n",
    "    if (k != 'diabetes' and k != 'p_id'): \n",
    "        q1 = v.quantile(0.25) # this identifies the 25th percentile\n",
    "        q3 = v.quantile(0.75) # this identifies the 75th percentile\n",
    "        irq = q3 - q1 #this is the interquartile range \n",
    "        \n",
    "        v_col = v[(v < q1 - 1.5 * irq) | (v > q3 + 1.5 * irq)] # these rows are outliers \n",
    "        perc = np.shape(v_col)[0] * 100.0 / np.shape(diabetes_data)[0]  # finding percentage of outliers\n",
    "        print(\"Column %s:  outliers = %.2f%%\" % (k, perc))"
   ]
  },
  {
   "cell_type": "markdown",
   "metadata": {
    "cell_id": "00011-b33a4028-81ee-4a6a-be41-5f74ed9fc15c",
    "deepnote_cell_type": "markdown",
    "tags": []
   },
   "source": [
    "As shown from the percentages of outliers above, variables with outlier percentages **above 3%** include `diabetes pedigree `. \n",
    "\n",
    "Due to the **limited size of our dataset**, we decided to be careful in dropping rows while dealing with the outliers. For every independent variable, we will **create a boxplot** to get a rough sensing of the number of outliers. \n",
    "\n",
    "If there is no outlier identified by the boxplot, there will be no need to deal with outliers. \n",
    "\n",
    "**Should there be any outliers**, we will **use a scatter plot** to further investigate its relationship with the dependent variable which we are interested in, `diabetes`, before deciding the appropriate way of dealing with them contextually. "
   ]
  },
  {
   "cell_type": "markdown",
   "metadata": {
    "cell_id": "00015-1a1391f2-5cad-49d5-b80c-2cba80f4c234",
    "deepnote_cell_type": "text-cell-h3",
    "tags": []
   },
   "source": [
    "### Variables without outliers "
   ]
  },
  {
   "cell_type": "markdown",
   "metadata": {
    "cell_id": "00023-37caca8f-beaf-461e-b5fc-f33251502a82",
    "deepnote_cell_type": "markdown",
    "tags": []
   },
   "source": [
    "#### 1. Glucose_concentration univariate analysis\n",
    "\n",
    "As shown in the analysis of percentage of outliers for each variable above, it shows that the variables `glucose_concentration` **do not have any outliers**. Hence, for this variable, we do not need to deal with any outliers. "
   ]
  },
  {
   "cell_type": "code",
   "execution_count": 11,
   "metadata": {
    "cell_id": "00023-fb359cef-4085-4282-a44f-c1051c8843a2",
    "deepnote_cell_type": "code",
    "deepnote_to_be_reexecuted": false,
    "execution_millis": 336,
    "execution_start": 1624113468879,
    "source_hash": "9b018c29",
    "tags": []
   },
   "outputs": [
    {
     "data": {
      "image/png": "[encoded data removed]",
      "text/plain": [
       "<Figure size 576x360 with 1 Axes>"
      ]
     },
     "metadata": {
      "image/png": {
       "height": 304,
       "width": 486
      },
      "needs_background": "light"
     },
     "output_type": "display_data"
    }
   ],
   "source": [
    "no_outliers = diabetes_data[[\"glucose_concentration\"]]\n",
    "no_outliers.plot(kind='box',  subplots = True, figsize=(8, 5))\n",
    "plt.show()"
   ]
  },
  {
   "cell_type": "markdown",
   "metadata": {
    "cell_id": "00025-9f3c27d1-f10d-4a5e-a5c6-1b0d77ba4134",
    "deepnote_cell_type": "markdown",
    "tags": []
   },
   "source": [
    "### Variables with outliers"
   ]
  },
  {
   "cell_type": "markdown",
   "metadata": {
    "cell_id": "00025-bfe86890-5c2f-4432-add3-3dd486b1f1ab",
    "deepnote_cell_type": "text-cell-h3",
    "tags": []
   },
   "source": [
    "#### 2. Dealing with no_of_times_pregnant outliers "
   ]
  },
  {
   "cell_type": "code",
   "execution_count": 12,
   "metadata": {
    "cell_id": "00026-7621e0ed-1005-4b7e-be3b-b29ed1a5fd5f",
    "deepnote_cell_type": "code",
    "deepnote_to_be_reexecuted": false,
    "execution_millis": 119,
    "execution_start": 1624113469325,
    "source_hash": "c38407da",
    "tags": []
   },
   "outputs": [
    {
     "data": {
      "image/png": "[encoded data removed]",
      "text/plain": [
       "<Figure size 1512x360 with 1 Axes>"
      ]
     },
     "metadata": {
      "image/png": {
       "height": 318,
       "width": 367
      },
      "needs_background": "light"
     },
     "output_type": "display_data"
    }
   ],
   "source": [
    "fig = plt.figure(figsize=(21, 5))\n",
    "\n",
    "plt.subplot(1,3,2)\n",
    "ax1 = sb.boxplot(x = diabetes_data[\"no_times_pregnant\"])"
   ]
  },
  {
   "cell_type": "markdown",
   "metadata": {
    "cell_id": "00027-eee5c066-6985-4f51-88e7-b0479a530ef7",
    "deepnote_cell_type": "markdown",
    "tags": []
   },
   "source": [
    "From the boxplot, since there are **only a few outliers (3 in total)**, mostly from those who are pregnant more than 12.5 times, we decided that it would be reasonable to remove these outliers."
   ]
  },
  {
   "cell_type": "code",
   "execution_count": 13,
   "metadata": {
    "cell_id": "00028-a736da06-9da4-4e70-aac2-28202e98a589",
    "deepnote_cell_type": "code",
    "deepnote_to_be_reexecuted": false,
    "execution_millis": 12,
    "execution_start": 1624113469434,
    "source_hash": "e389c1e5",
    "tags": []
   },
   "outputs": [
    {
     "name": "stdout",
     "output_type": "stream",
     "text": [
      "Upper threshold: 13.5\n",
      "Lower threshold: 0\n",
      "Number of outliers deleted: 3\n",
      "number of rows after dropping: 611\n"
     ]
    }
   ],
   "source": [
    "q1_Times_Pregnant = diabetes_data[\"no_times_pregnant\"].describe()[\"25%\"] # the 25th percentile\n",
    "q3_Times_Pregnant = diabetes_data[\"no_times_pregnant\"].describe()[\"75%\"] # the 75th percentile\n",
    "\n",
    "upper_threshold_pregnant = q3_Times_Pregnant + 1.5 * (q3_Times_Pregnant-q1_Times_Pregnant) # determines upper threshold. Plots above this value would be considered outliers\n",
    "lower_threshold_pregnant = 0 # determines lower threshold. Plots below this value would be considered outliers\n",
    "# The lower threshold will be 0 as it is the minimum number of times a person can be pregnant.\n",
    "\n",
    "print(\"Upper threshold: \"f\"{upper_threshold_pregnant}\"); # value of upper threshold \n",
    "print(\"Lower threshold: \"f\"{lower_threshold_pregnant}\"); # value of lower threshold \n",
    "Times_Pregnant_Outliers = diabetes_data[(diabetes_data[\"no_times_pregnant\"] < lower_threshold_pregnant)|(diabetes_data[\"no_times_pregnant\"] > upper_threshold_pregnant)] \n",
    "num_rows = len(Times_Pregnant_Outliers.index) # number of outliers that was removed\n",
    "print(f'Number of outliers deleted: {num_rows}')\n",
    "\n",
    "diabetes_data = diabetes_data[(diabetes_data[\"no_times_pregnant\"] <= upper_threshold_pregnant) & (diabetes_data[\"no_times_pregnant\"] >= lower_threshold_pregnant)]\n",
    "\n",
    "#finding the shape of dataframe after dropping outliers\n",
    "n_rows, n_cols = diabetes_data.shape\n",
    "print(f\"number of rows after dropping: {n_rows}\")"
   ]
  },
  {
   "cell_type": "markdown",
   "metadata": {
    "cell_id": "00026-a0e427a4-3e0f-486b-88d6-59de3221c283",
    "deepnote_cell_type": "text-cell-h3",
    "tags": []
   },
   "source": [
    "#### 3. Dealing with blood_pressure outliers "
   ]
  },
  {
   "cell_type": "code",
   "execution_count": 14,
   "metadata": {
    "cell_id": "00029-fed3da53-9905-404b-a368-89f399e9c83c",
    "deepnote_cell_type": "code",
    "deepnote_to_be_reexecuted": false,
    "execution_millis": 110,
    "execution_start": 1624113469555,
    "source_hash": "8cef6eee",
    "tags": []
   },
   "outputs": [
    {
     "data": {
      "image/png": "[encoded data removed]",
      "text/plain": [
       "<Figure size 1512x360 with 1 Axes>"
      ]
     },
     "metadata": {
      "image/png": {
       "height": 318,
       "width": 363
      },
      "needs_background": "light"
     },
     "output_type": "display_data"
    }
   ],
   "source": [
    "fig = plt.figure(figsize=(21, 5))\n",
    "\n",
    "plt.subplot(1,3,2)\n",
    "ax1 = sb.boxplot(x = diabetes_data[\"blood_pressure\"])"
   ]
  },
  {
   "cell_type": "markdown",
   "metadata": {
    "cell_id": "00031-1445f9b4-92b6-43a5-802b-a9329614f2c9",
    "deepnote_cell_type": "markdown",
    "tags": []
   },
   "source": [
    "As seen from the boxplot above, there are **only a few outliers (6 in total)**, we decided that it would be reasonable to remove these outliers to prevent them from affecting our analysis."
   ]
  },
  {
   "cell_type": "code",
   "execution_count": 15,
   "metadata": {
    "cell_id": "00032-f38fc397-45a8-4067-9c5f-d8d9d440a939",
    "deepnote_cell_type": "code",
    "deepnote_to_be_reexecuted": false,
    "execution_millis": 6,
    "execution_start": 1624113469659,
    "source_hash": "17ddd8dd",
    "tags": []
   },
   "outputs": [
    {
     "name": "stdout",
     "output_type": "stream",
     "text": [
      "Upper threshold: 104.0\n",
      "Lower threshold: 40.0\n",
      "Number of outliers deleted: 9\n",
      "number of rows after dropping: 602\n"
     ]
    }
   ],
   "source": [
    "q1_Times_Blood_Pressure = diabetes_data[\"blood_pressure\"].describe()[\"25%\"] # the 25th percentile\n",
    "q3_Times_Blood_Pressure = diabetes_data[\"blood_pressure\"].describe()[\"75%\"] # the 75th percentile\n",
    "\n",
    "upper_threshold_blood_pressure = q3_Times_Blood_Pressure + 1.5 * (q3_Times_Blood_Pressure-q1_Times_Blood_Pressure) # determines upper threshold. Plots above this value would be considered outliers\n",
    "lower_threshold_blood_pressure = q1_Times_Blood_Pressure - 1.5 * (q3_Times_Blood_Pressure-q1_Times_Blood_Pressure) # determines lower threshold. Plots below this value would be considered outliers\n",
    "\n",
    "print(\"Upper threshold: \"f\"{upper_threshold_blood_pressure}\"); # value of upper threshold \n",
    "print(\"Lower threshold: \"f\"{lower_threshold_blood_pressure}\"); # value of lower threshold \n",
    "Blood_Pressure_Outliers = diabetes_data[(diabetes_data[\"blood_pressure\"] < lower_threshold_blood_pressure)|(diabetes_data[\"blood_pressure\"] > upper_threshold_blood_pressure)] \n",
    "num_rows = len(Blood_Pressure_Outliers.index) # number of outliers that was removed\n",
    "print(f'Number of outliers deleted: {num_rows}')\n",
    "\n",
    "diabetes_data = diabetes_data[(diabetes_data[\"blood_pressure\"] <= upper_threshold_blood_pressure) & (diabetes_data[\"blood_pressure\"] >= lower_threshold_blood_pressure)]\n",
    "\n",
    "#finding the shape of dataframe after dropping outliers\n",
    "n_rows, n_cols = diabetes_data.shape\n",
    "print(f\"number of rows after dropping: {n_rows}\")"
   ]
  },
  {
   "cell_type": "markdown",
   "metadata": {
    "cell_id": "00027-39a3cf93-ca85-472b-b6d0-474e1727fd52",
    "deepnote_cell_type": "text-cell-h3",
    "tags": []
   },
   "source": [
    "#### 4. Dealing with bmi outliers "
   ]
  },
  {
   "cell_type": "code",
   "execution_count": 16,
   "metadata": {
    "cell_id": "00031-873a9e63-8a0e-4f11-b902-1f7eeaf3507d",
    "deepnote_cell_type": "code",
    "deepnote_to_be_reexecuted": false,
    "execution_millis": 110,
    "execution_start": 1624113469702,
    "source_hash": "6fa631b2",
    "tags": []
   },
   "outputs": [
    {
     "data": {
      "image/png": "[encoded data removed]",
      "text/plain": [
       "<Figure size 1512x360 with 1 Axes>"
      ]
     },
     "metadata": {
      "image/png": {
       "height": 317,
       "width": 362
      },
      "needs_background": "light"
     },
     "output_type": "display_data"
    }
   ],
   "source": [
    "fig = plt.figure(figsize=(21, 5))\n",
    "\n",
    "plt.subplot(1,3,2)\n",
    "ax1 = sb.boxplot(x = diabetes_data[\"bmi\"])"
   ]
  },
  {
   "cell_type": "markdown",
   "metadata": {
    "cell_id": "00035-db8918d6-0fd5-4144-9a4b-a75fdc3e1dcb",
    "deepnote_cell_type": "markdown",
    "tags": []
   },
   "source": [
    "As seen from the boxplot and calculation above, there is a **small percentage of outliers (5 in total)**, we also decided to remove them. "
   ]
  },
  {
   "cell_type": "code",
   "execution_count": 17,
   "metadata": {
    "cell_id": "00036-40304d19-53c6-4dbb-8862-bafe933f232c",
    "deepnote_cell_type": "code",
    "deepnote_to_be_reexecuted": false,
    "execution_millis": 6,
    "execution_start": 1624113469870,
    "source_hash": "bde64125",
    "tags": []
   },
   "outputs": [
    {
     "name": "stdout",
     "output_type": "stream",
     "text": [
      "Upper threshold: 50.150000000000006\n",
      "Lower threshold: 18.2\n",
      "Number of outliers deleted: 5\n",
      "number of rows after dropping: 597\n"
     ]
    }
   ],
   "source": [
    "q1_Times_bmi = diabetes_data[\"bmi\"].describe()[\"25%\"] # the 25th percentile\n",
    "q3_Times_bmi = diabetes_data[\"bmi\"].describe()[\"75%\"] # the 75th percentile\n",
    "\n",
    "upper_threshold_bmi = q3_Times_bmi + 1.5 * (q3_Times_bmi-q1_Times_bmi) # determines upper threshold. Plots above this value would be considered outliers\n",
    "lower_threshold_bmi = (q1_Times_bmi - 1.5 * (q3_Times_bmi-q1_Times_bmi)) if ((q1_Times_bmi - 1.5 * (q3_Times_bmi-q1_Times_bmi)) > diabetes_data[\"bmi\"].describe()[\"min\"]) else diabetes_data[\"bmi\"].describe()[\"min\"] # determines lower threshold. Plots below this value would be considered outliers # determines lower threshold. Plots below this value would be considered outliers\n",
    "\n",
    "print(\"Upper threshold: \"f\"{upper_threshold_bmi}\"); # value of upper threshold \n",
    "print(\"Lower threshold: \"f\"{lower_threshold_bmi}\"); # value of lower threshold \n",
    "Times_bmi_Outliers = diabetes_data[(diabetes_data[\"bmi\"] < lower_threshold_bmi)|(diabetes_data[\"bmi\"] > upper_threshold_bmi)] \n",
    "num_rows = len(Times_bmi_Outliers.index) # number of outliers that was removed\n",
    "print(f'Number of outliers deleted: {num_rows}')\n",
    "\n",
    "diabetes_data = diabetes_data[(diabetes_data[\"bmi\"] <= upper_threshold_bmi) & (diabetes_data[\"bmi\"] >= lower_threshold_bmi)]\n",
    "\n",
    "#finding the shape of dataframe after dropping outliers\n",
    "n_rows, n_cols = diabetes_data.shape\n",
    "print(f\"number of rows after dropping: {n_rows}\")"
   ]
  },
  {
   "cell_type": "markdown",
   "metadata": {
    "cell_id": "00028-0a82c5eb-9c7f-450b-a946-d84addd365e1",
    "deepnote_cell_type": "text-cell-h3",
    "tags": []
   },
   "source": [
    "#### 5. Dealing with diabetes_pedigree outliers "
   ]
  },
  {
   "cell_type": "code",
   "execution_count": 18,
   "metadata": {
    "cell_id": "00033-fea5f60d-3f09-4b44-bec3-3cfeb3acab61",
    "deepnote_cell_type": "code",
    "deepnote_to_be_reexecuted": false,
    "execution_millis": 146,
    "execution_start": 1624113469914,
    "source_hash": "7724c83d",
    "tags": []
   },
   "outputs": [
    {
     "data": {
      "image/png": "[encoded data removed]",
      "text/plain": [
       "<Figure size 1512x360 with 1 Axes>"
      ]
     },
     "metadata": {
      "image/png": {
       "height": 317,
       "width": 362
      },
      "needs_background": "light"
     },
     "output_type": "display_data"
    }
   ],
   "source": [
    "fig = plt.figure(figsize=(21, 5))\n",
    "\n",
    "plt.subplot(1,3,2)\n",
    "ax1 = sb.boxplot(x = diabetes_data[\"diabetes pedigree\"])"
   ]
  },
  {
   "cell_type": "markdown",
   "metadata": {
    "cell_id": "00039-c36703f7-eb30-4740-b61f-2ed47d4fe20f",
    "deepnote_cell_type": "markdown",
    "tags": []
   },
   "source": [
    "Based on the box plot, the outliers all lie after a `diabetes pedigree` value of 1.0. However, since diabetes pedigree could be an **important factor in determining if a person will have diabetes**, we decided not to remove the outliers in this case."
   ]
  },
  {
   "cell_type": "markdown",
   "metadata": {
    "cell_id": "00029-9a9a4ea6-e468-459a-92df-02ec9644f227",
    "deepnote_cell_type": "text-cell-h3",
    "tags": []
   },
   "source": [
    "#### 6. Dealing with age outliers "
   ]
  },
  {
   "cell_type": "code",
   "execution_count": 19,
   "metadata": {
    "cell_id": "00038-30622472-a65a-4421-959b-fead6abcaddd",
    "deepnote_cell_type": "code",
    "deepnote_to_be_reexecuted": false,
    "execution_millis": 125,
    "execution_start": 1624113470094,
    "source_hash": "a4b1bb99",
    "tags": []
   },
   "outputs": [
    {
     "data": {
      "image/png": "[encoded data removed]",
      "text/plain": [
       "<Figure size 1512x360 with 1 Axes>"
      ]
     },
     "metadata": {
      "image/png": {
       "height": 317,
       "width": 362
      },
      "needs_background": "light"
     },
     "output_type": "display_data"
    }
   ],
   "source": [
    "fig = plt.figure(figsize=(21, 5))\n",
    "\n",
    "plt.subplot(1,3,2)\n",
    "ax1 = sb.boxplot(x = diabetes_data[\"age\"])"
   ]
  },
  {
   "cell_type": "markdown",
   "metadata": {
    "cell_id": "00043-c6fa597c-c909-49e0-bb3d-fc1ffd46baaa",
    "deepnote_cell_type": "markdown",
    "tags": []
   },
   "source": [
    "As seen from the boxplot and calculation above, there is a **small percentage of outliers (6 in total)**, we also decided to remove them. "
   ]
  },
  {
   "cell_type": "code",
   "execution_count": 20,
   "metadata": {
    "cell_id": "00044-b83f0e70-9567-4156-9af2-597b03b549d4",
    "deepnote_cell_type": "code",
    "deepnote_to_be_reexecuted": false,
    "execution_millis": 28,
    "execution_start": 1624113470226,
    "source_hash": "559c534e",
    "tags": []
   },
   "outputs": [
    {
     "name": "stdout",
     "output_type": "stream",
     "text": [
      "Upper threshold: 66.5\n",
      "Lower threshold: 21.0\n",
      "Number of outliers deleted: 9\n",
      "number of rows after dropping: 588\n"
     ]
    }
   ],
   "source": [
    "q1_Times_age = diabetes_data[\"age\"].describe()[\"25%\"] # the 25th percentile\n",
    "q3_Times_age = diabetes_data[\"age\"].describe()[\"75%\"] # the 75th percentile\n",
    "\n",
    "upper_threshold_age = q3_Times_age + 1.5 * (q3_Times_age-q1_Times_age) # determines upper threshold. Plots above this value would be considered outliers\n",
    "lower_threshold_age = (q1_Times_age - 1.5 * (q3_Times_age-q1_Times_age)) if ((q1_Times_age - 1.5 * (q3_Times_age-q1_Times_age)) > diabetes_data[\"age\"].describe()[\"min\"]) else diabetes_data[\"age\"].describe()[\"min\"] # determines lower threshold. Plots below this value would be considered outliers\n",
    "\n",
    "print(\"Upper threshold: \"f\"{upper_threshold_age}\"); # value of upper threshold \n",
    "print(\"Lower threshold: \"f\"{lower_threshold_age}\"); # value of lower threshold \n",
    "age_Outliers = diabetes_data[(diabetes_data[\"age\"] < lower_threshold_age)|(diabetes_data[\"age\"] > upper_threshold_age)] \n",
    "num_rows = len(age_Outliers.index) # number of outliers that was removed\n",
    "print(f'Number of outliers deleted: {num_rows}')\n",
    "\n",
    "diabetes_data = diabetes_data[(diabetes_data[\"age\"] <= upper_threshold_age) & (diabetes_data[\"age\"] >= lower_threshold_age)]\n",
    "\n",
    "#finding the shape of dataframe after dropping outliers\n",
    "n_rows, n_cols = diabetes_data.shape\n",
    "print(f\"number of rows after dropping: {n_rows}\")"
   ]
  },
  {
   "cell_type": "markdown",
   "metadata": {
    "cell_id": "00044-ee1d712c-26ab-41de-8d3a-552603425033",
    "deepnote_cell_type": "text-cell-h3",
    "tags": []
   },
   "source": [
    "### Data Visualization"
   ]
  },
  {
   "cell_type": "markdown",
   "metadata": {
    "cell_id": "00045-ca4bb17c-0576-4f8f-9c37-fb8956de0a91",
    "deepnote_cell_type": "markdown",
    "tags": []
   },
   "source": [
    "Since our dependent variable `diabetes` is a **categorical** variable, we decided to plot a **bar plot** to visualize its distribution. "
   ]
  },
  {
   "cell_type": "code",
   "execution_count": 21,
   "metadata": {
    "cell_id": "00045-1b806315-9330-4dca-a7aa-170de4ccc5d0",
    "deepnote_cell_type": "code",
    "deepnote_to_be_reexecuted": false,
    "execution_millis": 200,
    "execution_start": 1624113470250,
    "source_hash": "98b95871",
    "tags": []
   },
   "outputs": [
    {
     "name": "stdout",
     "output_type": "stream",
     "text": [
      "0.0    387\n",
      "1.0    201\n",
      "Name: diabetes, dtype: int64\n"
     ]
    },
    {
     "data": {
      "image/png": "[encoded data removed]",
      "text/plain": [
       "<Figure size 432x288 with 1 Axes>"
      ]
     },
     "metadata": {
      "image/png": {
       "height": 255,
       "width": 375
      },
      "needs_background": "light"
     },
     "output_type": "display_data"
    }
   ],
   "source": [
    "#Data visualization for number of people with diabetes and no diabetes\n",
    "print(diabetes_data.diabetes.value_counts())\n",
    "p = diabetes_data.diabetes.value_counts().plot(kind='bar')"
   ]
  },
  {
   "cell_type": "markdown",
   "metadata": {
    "cell_id": "00047-52c98fc9-d46d-4062-9622-dcd6d7921476",
    "deepnote_cell_type": "markdown",
    "tags": []
   },
   "source": [
    "Since all independent variables are **numerical** based on the dataset, we can start off by plot **histograms** for all features. The objective is to **select features or engineer new features** so that they can be used as our attributes for our model later."
   ]
  },
  {
   "cell_type": "code",
   "execution_count": 22,
   "metadata": {
    "cell_id": "00048-02ede77e-03cf-4cf4-b294-7d5861d0e695",
    "deepnote_cell_type": "code",
    "deepnote_to_be_reexecuted": false,
    "execution_millis": 3640,
    "execution_start": 1624113470533,
    "source_hash": "97af2000",
    "tags": []
   },
   "outputs": [
    {
     "data": {
      "image/png": "[encoded data removed]",
      "text/plain": [
       "<Figure size 1440x2160 with 45 Axes>"
      ]
     },
     "metadata": {
      "image/png": {
       "height": 376,
       "width": 1156
      },
      "needs_background": "light"
     },
     "output_type": "display_data"
    }
   ],
   "source": [
    "diabetes_data.hist(layout=(9,5), figsize=(20,30))\n",
    "\n",
    "plt.show()"
   ]
  },
  {
   "cell_type": "markdown",
   "metadata": {
    "cell_id": "00049-96a0dfb4-6a1f-4496-9d3c-c69b64bc6b72",
    "deepnote_cell_type": "markdown",
    "tags": []
   },
   "source": [
    "Based on a visual observation, we noted the following:\n",
    "\n",
    "1. The variable `p_id` is an index, hence it would **not have explanatory power**\n",
    "\n",
    "2. The variables were **not dominated by a limited range of values**\n",
    "\n",
    "As such, we felt that there is no need to create new features to be used as attributes. We will **select all independent variables except for `p_id`** as a preliminary set of variables for further Exploratory Data Analysis. Hence, we will plot boxplots of these independent variables with respect  to the `diabetes` variable to investigate their correlation. \n",
    "\n",
    "If the median values along with the IQR increase or decrease as we move from one category to another category, then we consider that the feature is corrleated to `diabetes`.  \n"
   ]
  },
  {
   "cell_type": "code",
   "execution_count": 23,
   "metadata": {
    "cell_id": "00050-e8dedf49-3990-4cf5-9f71-f2922e4db9c8",
    "deepnote_cell_type": "code",
    "deepnote_to_be_reexecuted": false,
    "execution_millis": 1194,
    "execution_start": 1624113474237,
    "source_hash": "52653575",
    "tags": []
   },
   "outputs": [
    {
     "data": {
      "image/png": "[encoded data removed]",
      "text/plain": [
       "<Figure size 1080x720 with 6 Axes>"
      ]
     },
     "metadata": {
      "image/png": {
       "height": 642,
       "width": 898
      },
      "needs_background": "light"
     },
     "output_type": "display_data"
    }
   ],
   "source": [
    "features_selected = [\"no_times_pregnant\", \"glucose_concentration\", \"blood_pressure\",\"bmi\",\"diabetes pedigree\",\"age\"]\n",
    "\n",
    "n = len(features_selected)\n",
    "\n",
    "r, c = 2,3\n",
    "fig, ax = plt.subplots(r, c, figsize=(15,10))\n",
    "\n",
    "for i in range(n):\n",
    "    feature = features_selected[i]\n",
    "    ax = plt.subplot(r,c,i+1)\n",
    "    ax.set_title(feature)\n",
    "    diabetes_data[['diabetes',feature]].boxplot(by='diabetes', ax=ax)\n",
    "\n",
    "plt.show()"
   ]
  },
  {
   "cell_type": "markdown",
   "metadata": {
    "cell_id": "00051-f49a3249-dff9-4452-a870-b6ba3745271d",
    "deepnote_cell_type": "markdown",
    "tags": []
   },
   "source": [
    "Based on the criteria, all of the independent variables seems to be **correlated with** `diabetes`. However, we want to ensure that our independent variables are not correlated against each other as features with high correlation are considered to be **redundant**. \n",
    "\n",
    "Thus, we have decided to plot a **heatmap** to **visualize their correlation with each other**.\n",
    "\n",
    "We used the $r^2$ value since it is a statistical measure that **represents the proportion of the variance for a dependent variable that's explained by an independent variable in a regression model**. While the correlation r value simply explains the strength of the relationship between 2 variables, $r^2$ explains to what **extent the variance of one variable explains the variance of the second variable**. In other words, if the $r^2$ of a model is 0.50, then approximately half of the observed variation can be explained by the model's inputs."
   ]
  },
  {
   "cell_type": "code",
   "execution_count": 24,
   "metadata": {
    "cell_id": "00052-e5f7cc64-9844-43c3-973d-28d9e61e305b",
    "deepnote_cell_type": "code",
    "deepnote_to_be_reexecuted": false,
    "execution_millis": 963,
    "execution_start": 1624113475469,
    "source_hash": "5bd216fb",
    "tags": []
   },
   "outputs": [
    {
     "data": {
      "image/png": "[encoded data removed]",
      "text/plain": [
       "<Figure size 720x720 with 2 Axes>"
      ]
     },
     "metadata": {
      "image/png": {
       "height": 633,
       "width": 658
      },
      "needs_background": "light"
     },
     "output_type": "display_data"
    }
   ],
   "source": [
    "f, ax = plt.subplots(figsize=(10,10))\n",
    "\n",
    "r2 = diabetes_data[features_selected].corr()**2\n",
    "\n",
    "sb.heatmap(r2,\n",
    "            mask=np.zeros_like(r2, dtype=np.bool), \n",
    "            cmap=sb.diverging_palette(220, 10, as_cmap=True),\n",
    "            square=True, ax=ax,annot=True);"
   ]
  },
  {
   "cell_type": "markdown",
   "metadata": {
    "cell_id": "00053-139be05e-d5c4-43c2-893f-8a9c7974e61b",
    "deepnote_cell_type": "markdown",
    "tags": []
   },
   "source": [
    "Subsequently, we wrote a function to **remove** features with a correlation value **greater than or equal to 0.5 with each other**."
   ]
  },
  {
   "cell_type": "code",
   "execution_count": 25,
   "metadata": {
    "cell_id": "00053-52d992aa-e3d8-46d2-a85a-b44f0ba776d5",
    "deepnote_cell_type": "code",
    "deepnote_to_be_reexecuted": false,
    "execution_millis": 5,
    "execution_start": 1624113476444,
    "source_hash": "9e6dfc64",
    "tags": []
   },
   "outputs": [],
   "source": [
    "# get the feature that has the most number of features\n",
    "# it is correlated with, beyond certain threshold\n",
    "\n",
    "def most_corr_feature(df, threshold):\n",
    "    r2_matrix = abs((df.corr())**2)\n",
    "    count = r2_matrix[r2_matrix>threshold].count()\n",
    "    return count.sort_values(ascending=False).index[0]\n",
    "\n",
    "# return true if all the features are uncorrelated,\n",
    "# as defined by a threshold\n",
    "\n",
    "def all_features_uncorr(df, threshold):\n",
    "    r2_matrix = abs(df.corr()**2)\n",
    "    n = len(r2_matrix)\n",
    "    return r2_matrix[r2_matrix>threshold].count().sum()==n\n",
    "\n",
    "# get a set of uncorrelated features\n",
    "\n",
    "def get_uncorr_features(df, threshold):\n",
    "    features = df.columns.tolist()\n",
    "    while all_features_uncorr(df[features], threshold) == False:\n",
    "        most_corr_fea = most_corr_feature(df[features], threshold)\n",
    "        features.remove(most_corr_fea)\n",
    "    return features"
   ]
  },
  {
   "cell_type": "code",
   "execution_count": 26,
   "metadata": {
    "cell_id": "00054-b60b7a2e-8f49-4ecd-9657-9ae66c162504",
    "deepnote_cell_type": "code",
    "deepnote_to_be_reexecuted": false,
    "execution_millis": 6,
    "execution_start": 1624113476498,
    "source_hash": "f1343123",
    "tags": []
   },
   "outputs": [
    {
     "name": "stdout",
     "output_type": "stream",
     "text": [
      "Final selected features : ['no_times_pregnant', 'glucose_concentration', 'blood_pressure', 'bmi', 'diabetes pedigree', 'age']\n"
     ]
    }
   ],
   "source": [
    "features_selected = get_uncorr_features(diabetes_data[features_selected], 0.5)\n",
    "print(f\"Final selected features : {features_selected}\")"
   ]
  },
  {
   "cell_type": "markdown",
   "metadata": {
    "cell_id": "00056-d499f536-9940-4126-ab73-2b15d4997cbb",
    "deepnote_cell_type": "markdown",
    "tags": []
   },
   "source": [
    "After running the features through our function, no variables were removed as they **do not have a correlation value of 0.5 or higher with each other**. "
   ]
  },
  {
   "cell_type": "code",
   "execution_count": 27,
   "metadata": {
    "cell_id": "00057-5cbe8176-9b87-4bcd-858c-036bc21efb7a",
    "deepnote_cell_type": "code",
    "deepnote_to_be_reexecuted": false,
    "execution_millis": 1497,
    "execution_start": 1624113476572,
    "source_hash": "43c8fe5c",
    "tags": []
   },
   "outputs": [
    {
     "data": {
      "image/png": "[encoded data removed]",
      "text/plain": [
       "<Figure size 1440x360 with 6 Axes>"
      ]
     },
     "metadata": {
      "image/png": {
       "height": 344,
       "width": 1186
      },
      "needs_background": "light"
     },
     "output_type": "display_data"
    }
   ],
   "source": [
    "n = len(features_selected)\n",
    "\n",
    "r, c = 1,6\n",
    "fig, ax = plt.subplots(r, c, figsize=(20,5))\n",
    "\n",
    "for i in range(n):\n",
    "    feature = features_selected[i]\n",
    "    ax = plt.subplot(r,c,i+1)\n",
    "    ax.set_title(feature)\n",
    "    diabetes_data[['diabetes',feature]].boxplot(by='diabetes', ax=ax)\n",
    "\n",
    "plt.show()"
   ]
  },
  {
   "cell_type": "markdown",
   "metadata": {
    "cell_id": "00058-af65342a-4dfd-41d9-ba76-9aa27f86302e",
    "deepnote_cell_type": "text-cell-h3",
    "tags": []
   },
   "source": [
    "### Model Training"
   ]
  },
  {
   "cell_type": "markdown",
   "metadata": {
    "cell_id": "00059-8c49af04-6893-4e94-a690-8358586aaef1",
    "deepnote_cell_type": "markdown",
    "tags": []
   },
   "source": [
    "After feature selection, we will proceed onto **fitting** our models. \n",
    "\n",
    "For an unbiased estimation of the predictive performance of machine learning models, we should distinguish between data that will be used for model fitting as well as data that will be used to test our model. Hence, we needed to split our current dataset into training and test sets.\n",
    "\n",
    "We used the `model_selection` package from `scikit-learn` to split our dataset **randomly** into 75/25. We will  be **keeping 25% of the dataset for the purpose of our model evaluation**."
   ]
  },
  {
   "cell_type": "code",
   "execution_count": 28,
   "metadata": {
    "cell_id": "00059-e8d0c7dd-2be8-4379-88ee-e14cbac1a046",
    "deepnote_cell_type": "code",
    "deepnote_to_be_reexecuted": false,
    "execution_millis": 0,
    "execution_start": 1624113478059,
    "source_hash": "d7deceac",
    "tags": []
   },
   "outputs": [],
   "source": [
    "#train_test_split\n",
    "\n",
    "from sklearn.model_selection import train_test_split\n",
    "\n",
    "X = diabetes_data[features_selected]\n",
    "y = diabetes_data[\"diabetes\"]\n",
    "\n",
    "X_train, X_test, y_train, y_test = train_test_split(X, y, test_size=0.25, random_state=42)"
   ]
  },
  {
   "cell_type": "code",
   "execution_count": 29,
   "metadata": {
    "cell_id": "00062-6a216cc8-f007-4e4f-9c23-1711cbc3d6a0",
    "deepnote_cell_type": "code",
    "deepnote_to_be_reexecuted": false,
    "execution_millis": 10,
    "execution_start": 1624113478059,
    "source_hash": "2303d8b1",
    "tags": []
   },
   "outputs": [
    {
     "name": "stdout",
     "output_type": "stream",
     "text": [
      "(147,)\n"
     ]
    }
   ],
   "source": [
    "print(y_test.shape)"
   ]
  },
  {
   "cell_type": "markdown",
   "metadata": {
    "cell_id": "00059-6a174339-c00e-437e-ba96-1e8157d6c8aa",
    "deepnote_cell_type": "markdown",
    "tags": []
   },
   "source": [
    "Since our dependent variable, `diabetes`, is a categorical data, our data science project falls under the classification category.\n",
    "\n",
    "Hence, we decided to use 3 models to fit our data, namely using `Logistic Regression`, `K-nearest-neighbors` and `Random Forest Classifier`. We will then select the best model (measured in terms of Accuracy and F-score) to be used subsequently."
   ]
  },
  {
   "cell_type": "markdown",
   "metadata": {
    "cell_id": "00062-72655299-fc35-4be9-93aa-07944d998e55",
    "deepnote_cell_type": "markdown",
    "tags": []
   },
   "source": [
    "### Model 1: Logistic Regression\n",
    "\n",
    "Logistic Regression is a classification algorithm that provides a binary outcome with only **2 possible scenarios** — either **the event happens (1)** or **it does not happen (0)**. This is relevant for our investigation as our dependent variable, `diabetes`, is binary. \n",
    "\n",
    "Logistic Regression assumes no, or very little multicollinearity between the predictor variables (as verified earlier in our Multivariate Analysis). The result allows us to calculate the various coefficents of each attribute, where we hope to find the best predictor of diabetes (highest coefficient)."
   ]
  },
  {
   "cell_type": "code",
   "execution_count": 30,
   "metadata": {
    "cell_id": "00060-07f1b0e9-a34a-4404-8071-35fb99fcb5a5",
    "deepnote_cell_type": "code",
    "deepnote_to_be_reexecuted": false,
    "execution_millis": 49,
    "execution_start": 1624113478102,
    "source_hash": "b1475ce2",
    "tags": []
   },
   "outputs": [],
   "source": [
    "from sklearn.linear_model import LogisticRegression\n",
    "\n",
    "\n",
    "LogRegClassifier = LogisticRegression().fit(X_train,y_train)"
   ]
  },
  {
   "cell_type": "markdown",
   "metadata": {
    "cell_id": "00064-c71d37bb-311f-4cec-9fab-2f7a4f05bfc1",
    "deepnote_cell_type": "markdown",
    "tags": []
   },
   "source": [
    "### Model 2: K-Nearest Neighbors\n",
    "\n",
    "K-Nearest Neighbors is a pattern recognition algorithm to find the **K closest relatives** to classify datasets. Data is placed within the category of its nearest K neighbors. This algorithm is simple to implement and robust to noisy training data."
   ]
  },
  {
   "cell_type": "code",
   "execution_count": 31,
   "metadata": {
    "cell_id": "00064-0e29d6e1-4519-4eb9-8681-a1942fdfc720",
    "deepnote_cell_type": "code",
    "deepnote_to_be_reexecuted": false,
    "execution_millis": 5,
    "execution_start": 1624113478164,
    "source_hash": "88437e85",
    "tags": []
   },
   "outputs": [],
   "source": [
    "from sklearn.neighbors import KNeighborsClassifier\n",
    "\n",
    "KNNeighborClassifier = KNeighborsClassifier().fit(X_train,y_train)"
   ]
  },
  {
   "cell_type": "markdown",
   "metadata": {
    "cell_id": "00066-27ae7e20-c3f6-4182-8af5-e9523f92f3a4",
    "deepnote_cell_type": "markdown",
    "tags": []
   },
   "source": [
    "### Model 3: Random Forest Classifier\n",
    "\n",
    "The Random Forest Classifier consists of a large number of individual decision trees that operates independently. Each individual decision tree in the random forest produces a class prediction and the class with the most votes becomes our model’s prediction for the result.\n",
    "\n",
    "In random forests, each tree in the ensemble is built from a sample drawn with replacement from the training set. Furthermore, when splitting each node during the construction of a tree, the best split is found either from all input features or a random subset of size `max_features`. \n",
    "\n",
    "The purpose of these two sources of randomness is to decrease the variance of the forest estimator, which yields an overall better model. "
   ]
  },
  {
   "cell_type": "code",
   "execution_count": 32,
   "metadata": {
    "cell_id": "00067-20137c8d-ce53-4eb5-80ac-1bed2cc2e93d",
    "deepnote_cell_type": "code",
    "deepnote_to_be_reexecuted": false,
    "execution_millis": 452,
    "execution_start": 1624113478173,
    "source_hash": "8f56ed5e",
    "tags": []
   },
   "outputs": [],
   "source": [
    "from sklearn.ensemble import RandomForestClassifier\n",
    "\n",
    "RanForestClassifer = RandomForestClassifier().fit(X_train,y_train)"
   ]
  },
  {
   "cell_type": "markdown",
   "metadata": {
    "cell_id": "00061-a137fb36-f2ee-4f95-87ae-9fa879cfd88c",
    "deepnote_cell_type": "text-cell-h3",
    "tags": []
   },
   "source": [
    "### Model Evaluation"
   ]
  },
  {
   "cell_type": "markdown",
   "metadata": {
    "cell_id": "00064-3478ee09-c932-49e7-b9b5-815d265763e4",
    "deepnote_cell_type": "markdown",
    "tags": []
   },
   "source": [
    "Finally, we will evaluate our models using the metrics of Accuracy and F1-score.\n",
    "\n",
    "Accuracy is calculated by \\frac{TP+TN}{TP+TN+FP+FN}"
   ]
  },
  {
   "cell_type": "code",
   "execution_count": 33,
   "metadata": {
    "cell_id": "00065-17a8c197-baae-42a1-a3c9-5801b4e76e19",
    "deepnote_cell_type": "code",
    "deepnote_to_be_reexecuted": false,
    "execution_millis": 3524793,
    "execution_start": 1624113478641,
    "source_hash": "47998ff",
    "tags": []
   },
   "outputs": [],
   "source": [
    "from sklearn.metrics import f1_score, accuracy_score, confusion_matrix, plot_confusion_matrix"
   ]
  },
  {
   "cell_type": "markdown",
   "metadata": {
    "cell_id": "00071-3bbd82c9-1ec4-45fe-8092-20dd7870535d",
    "deepnote_cell_type": "markdown",
    "tags": []
   },
   "source": [
    "### Model 1: Logistic Regression Evaluation"
   ]
  },
  {
   "cell_type": "code",
   "execution_count": 34,
   "metadata": {
    "cell_id": "00072-c72f5183-cdd0-4373-ac2d-555a99787f1d",
    "deepnote_cell_type": "code",
    "deepnote_to_be_reexecuted": false,
    "execution_millis": 654,
    "execution_start": 1624113478702,
    "source_hash": "9d2a3eef",
    "tags": []
   },
   "outputs": [
    {
     "name": "stdout",
     "output_type": "stream",
     "text": [
      "Model 1: Logistic Regression Evaluation\n",
      "-----------------\n",
      "Accuracy: 0.776\n",
      "F1-score: 0.778\n"
     ]
    },
    {
     "data": {
      "image/png": "[encoded data removed]",
      "text/plain": [
       "<Figure size 432x288 with 2 Axes>"
      ]
     },
     "metadata": {
      "image/png": {
       "height": 278,
       "width": 315
      },
      "needs_background": "light"
     },
     "output_type": "display_data"
    }
   ],
   "source": [
    "#predict based on test set\n",
    "y_predict = LogRegClassifier.predict(X_test)\n",
    "\n",
    "#compare with ground truth \n",
    "accuracy = accuracy_score(y_test,y_predict)\n",
    "f1 = f1_score(y_test, y_predict, average='weighted')\n",
    "\n",
    "\n",
    "\n",
    "print(\"Model 1: Logistic Regression Evaluation\")\n",
    "print(\"-----------------\")\n",
    "print(f\"Accuracy: {accuracy:.3f}\")\n",
    "print(f\"F1-score: {f1:.3f}\")\n",
    "\n",
    "# Confusion Matrix\n",
    "cm_lgrg = confusion_matrix(y_test, y_predict)\n",
    "disp = plot_confusion_matrix(LogRegClassifier, X_test, y_test,\n",
    "                                 cmap=plt.cm.Blues, values_format='d',\n",
    "                                 normalize=None)\n",
    "disp.ax_.set_title('Confusion Matrix (Logistic Regression)')     \n",
    "plt.show()                       "
   ]
  },
  {
   "cell_type": "code",
   "execution_count": 35,
   "metadata": {
    "cell_id": "00076-203a822c-2f79-4cb3-a888-0c5bc2b4bef7",
    "deepnote_cell_type": "code",
    "deepnote_to_be_reexecuted": false,
    "execution_millis": 566,
    "execution_start": 1624113479363,
    "source_hash": "6f2cafe2",
    "tags": []
   },
   "outputs": [
    {
     "data": {
      "image/png": "[encoded data removed]",
      "text/plain": [
       "<Figure size 720x504 with 1 Axes>"
      ]
     },
     "metadata": {
      "image/png": {
       "height": 496,
       "width": 712
      },
      "needs_background": "light"
     },
     "output_type": "display_data"
    }
   ],
   "source": [
    "# print out the various coefficents to identify which have the most positive relation to Diabetes\n",
    "\n",
    "plt.figure(figsize=(10, 7))\n",
    "plt.barh(X_train.columns, LogRegClassifier.coef_[0], color ='g')\n",
    "plt.xlabel(\"Coefficient Values\")\n",
    "plt.ylabel(\"Risk Attributes\")\n",
    "plt.title(\"Coefficients for Logistic Regression\")\n",
    "plt.tight_layout() \n",
    "plt.show()"
   ]
  },
  {
   "cell_type": "markdown",
   "metadata": {
    "cell_id": "00073-8d336cdb-f78a-4d86-bdca-aa3a4dc61040",
    "deepnote_cell_type": "markdown",
    "tags": []
   },
   "source": [
    "**Results:**\n",
    "\n",
    "The classifier had an **accuracy** of **77.6%** and an **F1-score** of **0.778**, out of 147 test cases.\n",
    "\n",
    "Based on the **coefficient value** of each attribute from **Logistic Regression**, we can see that `diabetes pedigree` had the **highest positive correlation with diabetes**."
   ]
  },
  {
   "cell_type": "markdown",
   "metadata": {
    "cell_id": "00072-5eb53dad-78da-4f6c-b45c-3683e07886ed",
    "deepnote_cell_type": "markdown",
    "tags": []
   },
   "source": [
    "### Model 2: K-Nearest Neighbors Evaluation"
   ]
  },
  {
   "cell_type": "code",
   "execution_count": 36,
   "metadata": {
    "cell_id": "00074-f075b6bb-5ae7-491f-858c-6f8e827ec33c",
    "deepnote_cell_type": "code",
    "deepnote_to_be_reexecuted": false,
    "execution_millis": 502,
    "execution_start": 1624113479951,
    "source_hash": "7fde478a",
    "tags": []
   },
   "outputs": [
    {
     "name": "stdout",
     "output_type": "stream",
     "text": [
      "Model 2: K-Nearest Neighbors Evaluation\n",
      "-----------------\n",
      "Accuracy: 0.741\n",
      "F1-score: 0.744\n"
     ]
    },
    {
     "data": {
      "image/png": "[encoded data removed]",
      "text/plain": [
       "<Figure size 432x288 with 2 Axes>"
      ]
     },
     "metadata": {
      "image/png": {
       "height": 278,
       "width": 315
      },
      "needs_background": "light"
     },
     "output_type": "display_data"
    }
   ],
   "source": [
    "#predict based on test set\n",
    "y_predict = KNNeighborClassifier.predict(X_test)\n",
    "\n",
    "#compare with ground truth \n",
    "accuracy = accuracy_score(y_test,y_predict)\n",
    "f1 = f1_score(y_test, y_predict, average='weighted')\n",
    "\n",
    "print(\"Model 2: K-Nearest Neighbors Evaluation\")\n",
    "print(\"-----------------\")\n",
    "print(f\"Accuracy: {accuracy:.3f}\")\n",
    "print(f\"F1-score: {f1:.3f}\")\n",
    "\n",
    "# Confusion Matrix\n",
    "cm_knn = confusion_matrix(y_test, y_predict)\n",
    "disp = plot_confusion_matrix(KNNeighborClassifier, X_test, y_test,\n",
    "                                 cmap=plt.cm.Blues, values_format='d',\n",
    "                                 normalize=None)\n",
    "disp.ax_.set_title('Confusion Matrix (K-Nearest Neighbors)')     \n",
    "plt.show()     "
   ]
  },
  {
   "cell_type": "markdown",
   "metadata": {
    "cell_id": "00078-5d0d75c3-7ec7-430d-b289-b0a9accd0641",
    "deepnote_cell_type": "markdown",
    "tags": []
   },
   "source": [
    "**Results:**\n",
    "\n",
    "The classifier had an **accuracy** of **74.1%** and an **F1-score** of **0.744**, out of 147 test cases."
   ]
  },
  {
   "cell_type": "markdown",
   "metadata": {
    "cell_id": "00073-91ec06e4-a366-4ae6-9585-ea152b6a4607",
    "deepnote_cell_type": "markdown",
    "tags": []
   },
   "source": [
    "### Model 3: Random Forest Classifier Evaluation"
   ]
  },
  {
   "cell_type": "code",
   "execution_count": 37,
   "metadata": {
    "cell_id": "00076-b30f19fe-7809-499f-b2f3-6a889b98d744",
    "deepnote_cell_type": "code",
    "deepnote_to_be_reexecuted": false,
    "execution_millis": 547,
    "execution_start": 1624113480463,
    "source_hash": "e3b67d5",
    "tags": []
   },
   "outputs": [
    {
     "name": "stdout",
     "output_type": "stream",
     "text": [
      "Model 3: Random Forest Classifier Evaluation\n",
      "-----------------\n",
      "Accuracy: 0.776\n",
      "F1-score: 0.778\n"
     ]
    },
    {
     "data": {
      "image/png": "[encoded data removed]",
      "text/plain": [
       "<Figure size 432x288 with 2 Axes>"
      ]
     },
     "metadata": {
      "image/png": {
       "height": 278,
       "width": 315
      },
      "needs_background": "light"
     },
     "output_type": "display_data"
    }
   ],
   "source": [
    "#predict based on test set\n",
    "y_predict = RanForestClassifer.predict(X_test)\n",
    "\n",
    "#compare with ground truth \n",
    "accuracy = accuracy_score(y_test,y_predict)\n",
    "f1 = f1_score(y_test, y_predict, average='weighted')\n",
    "\n",
    "print(\"Model 3: Random Forest Classifier Evaluation\")\n",
    "print(\"-----------------\")\n",
    "print(f\"Accuracy: {accuracy:.3f}\")\n",
    "print(f\"F1-score: {f1:.3f}\")\n",
    "\n",
    "# Confusion Matrix\n",
    "cm_rf = confusion_matrix(y_test, y_predict)\n",
    "disp = plot_confusion_matrix(RanForestClassifer, X_test, y_test,\n",
    "                                 cmap=plt.cm.Blues, values_format='d',\n",
    "                                 normalize=None)\n",
    "disp.ax_.set_title('Confusion Matrix (Random Forest Classifier)')     \n",
    "plt.show()     "
   ]
  },
  {
   "cell_type": "code",
   "execution_count": 38,
   "metadata": {
    "cell_id": "00082-54b4bc81-8e64-4b57-ac61-dd29c7140136",
    "deepnote_cell_type": "code",
    "deepnote_to_be_reexecuted": false,
    "execution_millis": 441,
    "execution_start": 1624113481025,
    "source_hash": "66029af9",
    "tags": []
   },
   "outputs": [
    {
     "data": {
      "image/png": "[encoded data removed]",
      "text/plain": [
       "<Figure size 864x576 with 1 Axes>"
      ]
     },
     "metadata": {
      "image/png": {
       "height": 482,
       "width": 803
      },
      "needs_background": "light"
     },
     "output_type": "display_data"
    }
   ],
   "source": [
    "plt.figure(figsize=(12,8))\n",
    "\n",
    "plt.barh(features_selected, RanForestClassifer.feature_importances_)\n",
    "plt.title('Feature Importance - Random Forest Classifier')\n",
    "\n",
    "plt.show()"
   ]
  },
  {
   "cell_type": "markdown",
   "metadata": {
    "cell_id": "00081-8ee7aa2b-0a24-47e8-be6d-348fc95e8a14",
    "deepnote_cell_type": "markdown",
    "tags": []
   },
   "source": [
    "**Results:**\n",
    "\n",
    "The classifier had an **accuracy** of **78.2%** and an **F1-score** of **0.785**, out of 147 test cases.\n",
    "\n",
    "`glucose_concentration` was also identified as the **most important feature** for the **Random Forest Classifier** based on the graph shown above."
   ]
  },
  {
   "cell_type": "markdown",
   "metadata": {
    "cell_id": "00062-d659b4f7-bbe0-49db-803d-95d49e6042cb",
    "deepnote_cell_type": "text-cell-h3",
    "tags": []
   },
   "source": [
    "### Conclusion "
   ]
  },
  {
   "cell_type": "markdown",
   "metadata": {
    "cell_id": "00085-c897dac5-31e8-41a3-baaa-85cd14a513bd",
    "deepnote_cell_type": "markdown",
    "tags": []
   },
   "source": [
    "#### Determining the most important factors which causes diabetes\n",
    "\n",
    "Based on the evaluation of the Random Forest Classifier and Logistic Regression models, we can conclude that the 2 most important features which affected whether a person would have diabetes or not would be:\n",
    "\n",
    "- `glucose_concentration` \n",
    "- `diabetes pedigree` "
   ]
  },
  {
   "cell_type": "markdown",
   "metadata": {
    "cell_id": "00085-271358a9-af68-4702-8ed5-5fe488254e33",
    "deepnote_cell_type": "markdown",
    "tags": []
   },
   "source": [
    "#### Model Evaluation\n",
    "\n",
    "Based on the accuracy and F1-score as shown above, we can conclude that the **RandomForestClassifier** is the best model for this diabetes classification problem.\n",
    "\n",
    "We then proceeded to predict the classification of the test data."
   ]
  },
  {
   "cell_type": "code",
   "execution_count": 39,
   "metadata": {
    "cell_id": "00086-336237d8-7e38-4a1e-8f54-888487fa0e5f",
    "deepnote_cell_type": "code",
    "deepnote_to_be_reexecuted": false,
    "execution_millis": 105,
    "execution_start": 1624113481452,
    "source_hash": "4623e799",
    "tags": []
   },
   "outputs": [
    {
     "data": {
      "application/vnd.deepnote.dataframe.v2+json": {
       "column_count": 9,
       "columns": [
        {
         "dtype": "int64",
         "name": "p_id",
         "stats": {
          "histogram": [
           {
            "bin_end": 226.8,
            "bin_start": 181,
            "count": 2
           },
           {
            "bin_end": 272.6,
            "bin_start": 226.8,
            "count": 0
           },
           {
            "bin_end": 318.4,
            "bin_start": 272.6,
            "count": 0
           },
           {
            "bin_end": 364.2,
            "bin_start": 318.4,
            "count": 0
           },
           {
            "bin_end": 410,
            "bin_start": 364.2,
            "count": 0
           },
           {
            "bin_end": 455.79999999999995,
            "bin_start": 410,
            "count": 2
           },
           {
            "bin_end": 501.59999999999997,
            "bin_start": 455.79999999999995,
            "count": 0
           },
           {
            "bin_end": 547.4,
            "bin_start": 501.59999999999997,
            "count": 0
           },
           {
            "bin_end": 593.2,
            "bin_start": 547.4,
            "count": 0
           },
           {
            "bin_end": 639,
            "bin_start": 593.2,
            "count": 1
           }
          ],
          "max": "639",
          "min": "181",
          "nan_count": 0,
          "unique_count": 5
         }
        },
        {
         "dtype": "int64",
         "name": "no_times_pregnant",
         "stats": {
          "histogram": [
           {
            "bin_end": 6.6,
            "bin_start": 6,
            "count": 2
           },
           {
            "bin_end": 7.2,
            "bin_start": 6.6,
            "count": 2
           },
           {
            "bin_end": 7.8,
            "bin_start": 7.2,
            "count": 0
           },
           {
            "bin_end": 8.4,
            "bin_start": 7.8,
            "count": 0
           },
           {
            "bin_end": 9,
            "bin_start": 8.4,
            "count": 0
           },
           {
            "bin_end": 9.6,
            "bin_start": 9,
            "count": 0
           },
           {
            "bin_end": 10.2,
            "bin_start": 9.6,
            "count": 0
           },
           {
            "bin_end": 10.8,
            "bin_start": 10.2,
            "count": 0
           },
           {
            "bin_end": 11.399999999999999,
            "bin_start": 10.8,
            "count": 0
           },
           {
            "bin_end": 12,
            "bin_start": 11.399999999999999,
            "count": 1
           }
          ],
          "max": "12",
          "min": "6",
          "nan_count": 0,
          "unique_count": 3
         }
        },
        {
         "dtype": "int64",
         "name": "glucose_concentration",
         "stats": {
          "histogram": [
           {
            "bin_end": 96.2,
            "bin_start": 87,
            "count": 1
           },
           {
            "bin_end": 105.4,
            "bin_start": 96.2,
            "count": 2
           },
           {
            "bin_end": 114.6,
            "bin_start": 105.4,
            "count": 0
           },
           {
            "bin_end": 123.8,
            "bin_start": 114.6,
            "count": 0
           },
           {
            "bin_end": 133,
            "bin_start": 123.8,
            "count": 0
           },
           {
            "bin_end": 142.2,
            "bin_start": 133,
            "count": 1
           },
           {
            "bin_end": 151.39999999999998,
            "bin_start": 142.2,
            "count": 0
           },
           {
            "bin_end": 160.6,
            "bin_start": 151.39999999999998,
            "count": 0
           },
           {
            "bin_end": 169.8,
            "bin_start": 160.6,
            "count": 0
           },
           {
            "bin_end": 179,
            "bin_start": 169.8,
            "count": 1
           }
          ],
          "max": "179",
          "min": "87",
          "nan_count": 0,
          "unique_count": 5
         }
        },
        {
         "dtype": "int64",
         "name": "blood_pressure",
         "stats": {
          "histogram": [
           {
            "bin_end": 77.9,
            "bin_start": 76,
            "count": 1
           },
           {
            "bin_end": 79.8,
            "bin_start": 77.9,
            "count": 0
           },
           {
            "bin_end": 81.7,
            "bin_start": 79.8,
            "count": 1
           },
           {
            "bin_end": 83.6,
            "bin_start": 81.7,
            "count": 0
           },
           {
            "bin_end": 85.5,
            "bin_start": 83.6,
            "count": 1
           },
           {
            "bin_end": 87.4,
            "bin_start": 85.5,
            "count": 0
           },
           {
            "bin_end": 89.3,
            "bin_start": 87.4,
            "count": 0
           },
           {
            "bin_end": 91.2,
            "bin_start": 89.3,
            "count": 1
           },
           {
            "bin_end": 93.1,
            "bin_start": 91.2,
            "count": 0
           },
           {
            "bin_end": 95,
            "bin_start": 93.1,
            "count": 1
           }
          ],
          "max": "95",
          "min": "76",
          "nan_count": 0,
          "unique_count": 5
         }
        },
        {
         "dtype": "int64",
         "name": "skin_fold_thickness",
         "stats": {
          "histogram": [
           {
            "bin_end": 3.9,
            "bin_start": 0,
            "count": 1
           },
           {
            "bin_end": 7.8,
            "bin_start": 3.9,
            "count": 0
           },
           {
            "bin_end": 11.7,
            "bin_start": 7.8,
            "count": 0
           },
           {
            "bin_end": 15.6,
            "bin_start": 11.7,
            "count": 0
           },
           {
            "bin_end": 19.5,
            "bin_start": 15.6,
            "count": 0
           },
           {
            "bin_end": 23.4,
            "bin_start": 19.5,
            "count": 0
           },
           {
            "bin_end": 27.3,
            "bin_start": 23.4,
            "count": 0
           },
           {
            "bin_end": 31.2,
            "bin_start": 27.3,
            "count": 1
           },
           {
            "bin_end": 35.1,
            "bin_start": 31.2,
            "count": 2
           },
           {
            "bin_end": 39,
            "bin_start": 35.1,
            "count": 1
           }
          ],
          "max": "39",
          "min": "0",
          "nan_count": 0,
          "unique_count": 5
         }
        },
        {
         "dtype": "int64",
         "name": "serum_insulin",
         "stats": {
          "histogram": [
           {
            "bin_end": 9.1,
            "bin_start": 0,
            "count": 4
           },
           {
            "bin_end": 18.2,
            "bin_start": 9.1,
            "count": 0
           },
           {
            "bin_end": 27.299999999999997,
            "bin_start": 18.2,
            "count": 0
           },
           {
            "bin_end": 36.4,
            "bin_start": 27.299999999999997,
            "count": 0
           },
           {
            "bin_end": 45.5,
            "bin_start": 36.4,
            "count": 0
           },
           {
            "bin_end": 54.599999999999994,
            "bin_start": 45.5,
            "count": 0
           },
           {
            "bin_end": 63.699999999999996,
            "bin_start": 54.599999999999994,
            "count": 0
           },
           {
            "bin_end": 72.8,
            "bin_start": 63.699999999999996,
            "count": 0
           },
           {
            "bin_end": 81.89999999999999,
            "bin_start": 72.8,
            "count": 0
           },
           {
            "bin_end": 91,
            "bin_start": 81.89999999999999,
            "count": 1
           }
          ],
          "max": "91",
          "min": "0",
          "nan_count": 0,
          "unique_count": 2
         }
        },
        {
         "dtype": "float64",
         "name": "bmi",
         "stats": {
          "histogram": [
           {
            "bin_end": 24.97,
            "bin_start": 23.2,
            "count": 1
           },
           {
            "bin_end": 26.74,
            "bin_start": 24.97,
            "count": 0
           },
           {
            "bin_end": 28.509999999999998,
            "bin_start": 26.74,
            "count": 0
           },
           {
            "bin_end": 30.28,
            "bin_start": 28.509999999999998,
            "count": 0
           },
           {
            "bin_end": 32.05,
            "bin_start": 30.28,
            "count": 0
           },
           {
            "bin_end": 33.82,
            "bin_start": 32.05,
            "count": 0
           },
           {
            "bin_end": 35.59,
            "bin_start": 33.82,
            "count": 1
           },
           {
            "bin_end": 37.36,
            "bin_start": 35.59,
            "count": 1
           },
           {
            "bin_end": 39.129999999999995,
            "bin_start": 37.36,
            "count": 1
           },
           {
            "bin_end": 40.9,
            "bin_start": 39.129999999999995,
            "count": 1
           }
          ],
          "max": "40.9",
          "min": "23.2",
          "nan_count": 0,
          "unique_count": 5
         }
        },
        {
         "dtype": "float64",
         "name": "diabetes pedigree",
         "stats": {
          "histogram": [
           {
            "bin_end": 0.1627,
            "bin_start": 0.084,
            "count": 1
           },
           {
            "bin_end": 0.2414,
            "bin_start": 0.1627,
            "count": 1
           },
           {
            "bin_end": 0.32010000000000005,
            "bin_start": 0.2414,
            "count": 1
           },
           {
            "bin_end": 0.39880000000000004,
            "bin_start": 0.32010000000000005,
            "count": 0
           },
           {
            "bin_end": 0.47750000000000004,
            "bin_start": 0.39880000000000004,
            "count": 0
           },
           {
            "bin_end": 0.5562,
            "bin_start": 0.47750000000000004,
            "count": 0
           },
           {
            "bin_end": 0.6349,
            "bin_start": 0.5562,
            "count": 0
           },
           {
            "bin_end": 0.7136,
            "bin_start": 0.6349,
            "count": 1
           },
           {
            "bin_end": 0.7923,
            "bin_start": 0.7136,
            "count": 0
           },
           {
            "bin_end": 0.871,
            "bin_start": 0.7923,
            "count": 1
           }
          ],
          "max": "0.871",
          "min": "0.084",
          "nan_count": 0,
          "unique_count": 5
         }
        },
        {
         "dtype": "int64",
         "name": "age",
         "stats": {
          "histogram": [
           {
            "bin_end": 31.2,
            "bin_start": 28,
            "count": 1
           },
           {
            "bin_end": 34.4,
            "bin_start": 31.2,
            "count": 2
           },
           {
            "bin_end": 37.6,
            "bin_start": 34.4,
            "count": 0
           },
           {
            "bin_end": 40.8,
            "bin_start": 37.6,
            "count": 0
           },
           {
            "bin_end": 44,
            "bin_start": 40.8,
            "count": 1
           },
           {
            "bin_end": 47.2,
            "bin_start": 44,
            "count": 0
           },
           {
            "bin_end": 50.400000000000006,
            "bin_start": 47.2,
            "count": 0
           },
           {
            "bin_end": 53.6,
            "bin_start": 50.400000000000006,
            "count": 0
           },
           {
            "bin_end": 56.8,
            "bin_start": 53.6,
            "count": 0
           },
           {
            "bin_end": 60,
            "bin_start": 56.8,
            "count": 1
           }
          ],
          "max": "60",
          "min": "28",
          "nan_count": 0,
          "unique_count": 4
         }
        },
        {
         "dtype": "int64",
         "name": "_deepnote_index_column"
        }
       ],
       "row_count": 5,
       "rows_bottom": null,
       "rows_top": [
        {
         "_deepnote_index_column": 0,
         "age": 41,
         "blood_pressure": 85,
         "bmi": 37.4,
         "diabetes pedigree": 0.244,
         "glucose_concentration": 140,
         "no_times_pregnant": 12,
         "p_id": 437,
         "serum_insulin": 0,
         "skin_fold_thickness": 33
        },
        {
         "_deepnote_index_column": 1,
         "age": 28,
         "blood_pressure": 90,
         "bmi": 35.7,
         "diabetes pedigree": 0.674,
         "glucose_concentration": 102,
         "no_times_pregnant": 6,
         "p_id": 411,
         "serum_insulin": 0,
         "skin_fold_thickness": 39
        },
        {
         "_deepnote_index_column": 2,
         "age": 32,
         "blood_pressure": 76,
         "bmi": 40.9,
         "diabetes pedigree": 0.871,
         "glucose_concentration": 97,
         "no_times_pregnant": 7,
         "p_id": 639,
         "serum_insulin": 91,
         "skin_fold_thickness": 32
        },
        {
         "_deepnote_index_column": 3,
         "age": 60,
         "blood_pressure": 95,
         "bmi": 34.2,
         "diabetes pedigree": 0.164,
         "glucose_concentration": 179,
         "no_times_pregnant": 7,
         "p_id": 213,
         "serum_insulin": 0,
         "skin_fold_thickness": 31
        },
        {
         "_deepnote_index_column": 4,
         "age": 32,
         "blood_pressure": 80,
         "bmi": 23.2,
         "diabetes pedigree": 0.084,
         "glucose_concentration": 87,
         "no_times_pregnant": 6,
         "p_id": 181,
         "serum_insulin": 0,
         "skin_fold_thickness": 0
        }
       ]
      },
      "text/html": [
       "<div>\n",
       "<style scoped>\n",
       "    .dataframe tbody tr th:only-of-type {\n",
       "        vertical-align: middle;\n",
       "    }\n",
       "\n",
       "    .dataframe tbody tr th {\n",
       "        vertical-align: top;\n",
       "    }\n",
       "\n",
       "    .dataframe thead th {\n",
       "        text-align: right;\n",
       "    }\n",
       "</style>\n",
       "<table border=\"1\" class=\"dataframe\">\n",
       "  <thead>\n",
       "    <tr style=\"text-align: right;\">\n",
       "      <th></th>\n",
       "      <th>p_id</th>\n",
       "      <th>no_times_pregnant</th>\n",
       "      <th>glucose_concentration</th>\n",
       "      <th>blood_pressure</th>\n",
       "      <th>skin_fold_thickness</th>\n",
       "      <th>serum_insulin</th>\n",
       "      <th>bmi</th>\n",
       "      <th>diabetes pedigree</th>\n",
       "      <th>age</th>\n",
       "    </tr>\n",
       "  </thead>\n",
       "  <tbody>\n",
       "    <tr>\n",
       "      <th>0</th>\n",
       "      <td>437</td>\n",
       "      <td>12</td>\n",
       "      <td>140</td>\n",
       "      <td>85</td>\n",
       "      <td>33</td>\n",
       "      <td>0</td>\n",
       "      <td>37.4</td>\n",
       "      <td>0.244</td>\n",
       "      <td>41</td>\n",
       "    </tr>\n",
       "    <tr>\n",
       "      <th>1</th>\n",
       "      <td>411</td>\n",
       "      <td>6</td>\n",
       "      <td>102</td>\n",
       "      <td>90</td>\n",
       "      <td>39</td>\n",
       "      <td>0</td>\n",
       "      <td>35.7</td>\n",
       "      <td>0.674</td>\n",
       "      <td>28</td>\n",
       "    </tr>\n",
       "    <tr>\n",
       "      <th>2</th>\n",
       "      <td>639</td>\n",
       "      <td>7</td>\n",
       "      <td>97</td>\n",
       "      <td>76</td>\n",
       "      <td>32</td>\n",
       "      <td>91</td>\n",
       "      <td>40.9</td>\n",
       "      <td>0.871</td>\n",
       "      <td>32</td>\n",
       "    </tr>\n",
       "    <tr>\n",
       "      <th>3</th>\n",
       "      <td>213</td>\n",
       "      <td>7</td>\n",
       "      <td>179</td>\n",
       "      <td>95</td>\n",
       "      <td>31</td>\n",
       "      <td>0</td>\n",
       "      <td>34.2</td>\n",
       "      <td>0.164</td>\n",
       "      <td>60</td>\n",
       "    </tr>\n",
       "    <tr>\n",
       "      <th>4</th>\n",
       "      <td>181</td>\n",
       "      <td>6</td>\n",
       "      <td>87</td>\n",
       "      <td>80</td>\n",
       "      <td>0</td>\n",
       "      <td>0</td>\n",
       "      <td>23.2</td>\n",
       "      <td>0.084</td>\n",
       "      <td>32</td>\n",
       "    </tr>\n",
       "  </tbody>\n",
       "</table>\n",
       "</div>"
      ],
      "text/plain": [
       "   p_id  no_times_pregnant  glucose_concentration  blood_pressure  \\\n",
       "0   437                 12                    140              85   \n",
       "1   411                  6                    102              90   \n",
       "2   639                  7                     97              76   \n",
       "3   213                  7                    179              95   \n",
       "4   181                  6                     87              80   \n",
       "\n",
       "   skin_fold_thickness  serum_insulin   bmi  diabetes pedigree  age  \n",
       "0                   33              0  37.4              0.244   41  \n",
       "1                   39              0  35.7              0.674   28  \n",
       "2                   32             91  40.9              0.871   32  \n",
       "3                   31              0  34.2              0.164   60  \n",
       "4                    0              0  23.2              0.084   32  "
      ]
     },
     "execution_count": 39,
     "metadata": {},
     "output_type": "execute_result"
    }
   ],
   "source": [
    "test_data = pd.read_csv(\"test.csv\")\n",
    "test_data.head()"
   ]
  },
  {
   "cell_type": "code",
   "execution_count": 40,
   "metadata": {
    "cell_id": "00088-94f2b0ff-dcae-4670-8338-1c945fa0ddfd",
    "deepnote_cell_type": "code",
    "deepnote_to_be_reexecuted": false,
    "execution_millis": 45,
    "execution_start": 1624113481593,
    "source_hash": "351d2bd0",
    "tags": []
   },
   "outputs": [],
   "source": [
    "test_id = test_data['p_id']\n",
    "test_data = test_data[features_selected]\n",
    "\n",
    "predicted = RanForestClassifer.predict(test_data)"
   ]
  },
  {
   "cell_type": "code",
   "execution_count": 41,
   "metadata": {
    "cell_id": "00089-15eb2775-f4b2-4957-9a06-6311681d1d93",
    "deepnote_cell_type": "code",
    "deepnote_to_be_reexecuted": false,
    "execution_millis": 0,
    "execution_start": 1624113481638,
    "source_hash": "fe81f2ee",
    "tags": []
   },
   "outputs": [],
   "source": [
    "submission = pd.DataFrame({'p_id':test_id, 'diabetes':predicted})\n",
    "\n",
    "submission.to_csv('submission.csv', index=False)"
   ]
  },
  {
   "cell_type": "markdown",
   "metadata": {
    "cell_id": "00090-03ba2642-c830-439b-a906-6aa8f430ca7b",
    "deepnote_cell_type": "markdown",
    "tags": []
   },
   "source": [
    "### Future Room for Consideration\n",
    "1. We could have conducted **feature bucketing**, where we segment variables such as `blood_pressure` into `high_blood_pressure` and `low_blood_pressure`\n",
    "2. We could consider conducting **hyper-parameter tuning** to select a parameter that would give the best performance for an algorithm using GridSearchCV\n",
    "3. The dataset found could have **included more factors**, as there could be many other reasons that affect whether a person suffers from diabetes (e.g. gender, intake of sugary food per day, level of exercise, etc.)"
   ]
  },
  {
   "cell_type": "markdown",
   "metadata": {
    "cell_id": "00087-2c21f84f-e261-464f-a1b6-46ed64bb0e0e",
    "deepnote_cell_type": "markdown",
    "tags": []
   },
   "source": [
    "**References:**\n",
    "\n",
    "https://scikit-learn.org/stable/modules/ensemble.html#forests-of-randomized-trees <br>\n",
    "https://medium.com/analytics-vidhya/evaluating-a-random-forest-model-9d165595ad56 <br>\n"
   ]
  }
 ],
 "metadata": {
  "deepnote": {
   "is_reactive": false
  },
  "deepnote_execution_queue": [],
  "deepnote_notebook_id": "cc4243ce-cfc4-45f6-8008-3db8e7c206ed",
  "kernelspec": {
   "display_name": "Python 3",
   "language": "python",
   "name": "python3"
  },
  "language_info": {
   "codemirror_mode": {
    "name": "ipython",
    "version": 3
   },
   "file_extension": ".py",
   "mimetype": "text/x-python",
   "name": "python",
   "nbconvert_exporter": "python",
   "pygments_lexer": "ipython3",
   "version": "3.8.5"
  }
 },
 "nbformat": 4,
 "nbformat_minor": 2
}
